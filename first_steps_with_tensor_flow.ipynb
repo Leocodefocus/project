{
  "nbformat": 4,
  "nbformat_minor": 0,
  "metadata": {
    "colab": {
      "name": "first_steps_with_tensor_flow.ipynb",
      "version": "0.3.2",
      "provenance": [],
      "collapsed_sections": [
        "ajVM7rkoYXeL",
        "ci1ISxxrZ7v0",
        "copyright-notice"
      ]
    }
  },
  "cells": [
    {
      "cell_type": "markdown",
      "metadata": {
        "id": "view-in-github",
        "colab_type": "text"
      },
      "source": [
        "[View in Colaboratory](https://colab.research.google.com/github/Leocodefocus/project/blob/master/first_steps_with_tensor_flow.ipynb)"
      ]
    },
    {
      "metadata": {
        "id": "copyright-notice",
        "colab_type": "text"
      },
      "cell_type": "markdown",
      "source": [
        "#### Copyright 2017 Google LLC."
      ]
    },
    {
      "metadata": {
        "id": "copyright-notice2",
        "colab_type": "code",
        "colab": {}
      },
      "cell_type": "code",
      "source": [
        "# Licensed under the Apache License, Version 2.0 (the \"License\");\n",
        "# you may not use this file except in compliance with the License.\n",
        "# You may obtain a copy of the License at\n",
        "#\n",
        "# https://www.apache.org/licenses/LICENSE-2.0\n",
        "#\n",
        "# Unless required by applicable law or agreed to in writing, software\n",
        "# distributed under the License is distributed on an \"AS IS\" BASIS,\n",
        "# WITHOUT WARRANTIES OR CONDITIONS OF ANY KIND, either express or implied.\n",
        "# See the License for the specific language governing permissions and\n",
        "# limitations under the License."
      ],
      "execution_count": 0,
      "outputs": []
    },
    {
      "metadata": {
        "id": "4f3CKqFUqL2-",
        "colab_type": "text"
      },
      "cell_type": "markdown",
      "source": [
        " # 使用 TensorFlow 的基本步骤"
      ]
    },
    {
      "metadata": {
        "id": "Bd2Zkk1LE2Zr",
        "colab_type": "text"
      },
      "cell_type": "markdown",
      "source": [
        " **学习目标：**\n",
        "  * 学习基本的 TensorFlow 概念\n",
        "  * 在 TensorFlow 中使用 `LinearRegressor` 类并基于单个输入特征预测各城市街区的房屋价值中位数\n",
        "  * 使用均方根误差 (RMSE) 评估模型预测的准确率\n",
        "  * 通过调整模型的超参数提高模型准确率"
      ]
    },
    {
      "metadata": {
        "id": "MxiIKhP4E2Zr",
        "colab_type": "text"
      },
      "cell_type": "markdown",
      "source": [
        " 数据基于加利福尼亚州 1990 年的人口普查数据。"
      ]
    },
    {
      "metadata": {
        "id": "6TjLjL9IU80G",
        "colab_type": "text"
      },
      "cell_type": "markdown",
      "source": [
        " ## 设置\n",
        "在此第一个单元格中，我们将加载必要的库。"
      ]
    },
    {
      "metadata": {
        "id": "sqchtjmrsV8o",
        "colab_type": "code",
        "colab": {
          "base_uri": "https://localhost:8080/",
          "height": 17
        },
        "outputId": "508243f0-7a47-402c-c571-2f5b671b8c32"
      },
      "cell_type": "code",
      "source": [
        "import math\n",
        "\n",
        "from IPython import display\n",
        "from matplotlib import cm\n",
        "from matplotlib import gridspec\n",
        "from matplotlib import pyplot as plt\n",
        "import numpy as np\n",
        "import pandas as pd\n",
        "from sklearn import metrics\n",
        "import tensorflow as tf\n",
        "from tensorflow.python.data import Dataset\n",
        "\n",
        "tf.logging.set_verbosity(tf.logging.ERROR)\n",
        "pd.options.display.max_rows = 10\n",
        "pd.options.display.float_format = '{:.1f}'.format"
      ],
      "execution_count": 3,
      "outputs": []
    },
    {
      "metadata": {
        "id": "ipRyUHjhU80Q",
        "colab_type": "text"
      },
      "cell_type": "markdown",
      "source": [
        " 接下来，我们将加载数据集。"
      ]
    },
    {
      "metadata": {
        "id": "fgOlBrOjtfgV",
        "colab_type": "code",
        "colab": {}
      },
      "cell_type": "code",
      "source": [
        "#@title 默认标题文本\n",
        "california_housing_dataframe = pd.read_csv(\"https://storage.googleapis.com/mledu-datasets/california_housing_train.csv\", sep=\",\")"
      ],
      "execution_count": 0,
      "outputs": []
    },
    {
      "metadata": {
        "id": "vVk_qlG6U80j",
        "colab_type": "text"
      },
      "cell_type": "markdown",
      "source": [
        " 我们将对数据进行随机化处理，以确保不会出现任何病态排序结果（可能会损害随机梯度下降法的效果）。此外，我们会将 `median_house_value` 调整为以千为单位，这样，模型就能够以常用范围内的学习速率较为轻松地学习这些数据。"
      ]
    },
    {
      "metadata": {
        "id": "r0eVyguIU80m",
        "colab_type": "code",
        "colab": {
          "base_uri": "https://localhost:8080/",
          "height": 439
        },
        "outputId": "2df7b3be-6501-443f-9968-8c25a771942d"
      },
      "cell_type": "code",
      "source": [
        "california_housing_dataframe = california_housing_dataframe.reindex(\n",
        "    np.random.permutation(california_housing_dataframe.index))\n",
        "california_housing_dataframe[\"median_house_value\"] /= 1000.0\n",
        "california_housing_dataframe"
      ],
      "execution_count": 5,
      "outputs": [
        {
          "output_type": "execute_result",
          "data": {
            "text/html": [
              "<div>\n",
              "<style scoped>\n",
              "    .dataframe tbody tr th:only-of-type {\n",
              "        vertical-align: middle;\n",
              "    }\n",
              "\n",
              "    .dataframe tbody tr th {\n",
              "        vertical-align: top;\n",
              "    }\n",
              "\n",
              "    .dataframe thead th {\n",
              "        text-align: right;\n",
              "    }\n",
              "</style>\n",
              "<table border=\"1\" class=\"dataframe\">\n",
              "  <thead>\n",
              "    <tr style=\"text-align: right;\">\n",
              "      <th></th>\n",
              "      <th>longitude</th>\n",
              "      <th>latitude</th>\n",
              "      <th>housing_median_age</th>\n",
              "      <th>total_rooms</th>\n",
              "      <th>total_bedrooms</th>\n",
              "      <th>population</th>\n",
              "      <th>households</th>\n",
              "      <th>median_income</th>\n",
              "      <th>median_house_value</th>\n",
              "    </tr>\n",
              "  </thead>\n",
              "  <tbody>\n",
              "    <tr>\n",
              "      <th>8306</th>\n",
              "      <td>-118.5</td>\n",
              "      <td>34.0</td>\n",
              "      <td>48.0</td>\n",
              "      <td>1923.0</td>\n",
              "      <td>408.0</td>\n",
              "      <td>1142.0</td>\n",
              "      <td>433.0</td>\n",
              "      <td>4.6</td>\n",
              "      <td>326.7</td>\n",
              "    </tr>\n",
              "    <tr>\n",
              "      <th>6637</th>\n",
              "      <td>-118.3</td>\n",
              "      <td>33.9</td>\n",
              "      <td>37.0</td>\n",
              "      <td>742.0</td>\n",
              "      <td>151.0</td>\n",
              "      <td>729.0</td>\n",
              "      <td>144.0</td>\n",
              "      <td>3.1</td>\n",
              "      <td>105.4</td>\n",
              "    </tr>\n",
              "    <tr>\n",
              "      <th>17</th>\n",
              "      <td>-114.7</td>\n",
              "      <td>32.8</td>\n",
              "      <td>21.0</td>\n",
              "      <td>44.0</td>\n",
              "      <td>33.0</td>\n",
              "      <td>64.0</td>\n",
              "      <td>27.0</td>\n",
              "      <td>0.9</td>\n",
              "      <td>25.0</td>\n",
              "    </tr>\n",
              "    <tr>\n",
              "      <th>6705</th>\n",
              "      <td>-118.3</td>\n",
              "      <td>34.0</td>\n",
              "      <td>42.0</td>\n",
              "      <td>1680.0</td>\n",
              "      <td>557.0</td>\n",
              "      <td>2099.0</td>\n",
              "      <td>526.0</td>\n",
              "      <td>1.9</td>\n",
              "      <td>136.4</td>\n",
              "    </tr>\n",
              "    <tr>\n",
              "      <th>15169</th>\n",
              "      <td>-122.3</td>\n",
              "      <td>37.5</td>\n",
              "      <td>17.0</td>\n",
              "      <td>2742.0</td>\n",
              "      <td>441.0</td>\n",
              "      <td>986.0</td>\n",
              "      <td>421.0</td>\n",
              "      <td>5.9</td>\n",
              "      <td>496.0</td>\n",
              "    </tr>\n",
              "    <tr>\n",
              "      <th>...</th>\n",
              "      <td>...</td>\n",
              "      <td>...</td>\n",
              "      <td>...</td>\n",
              "      <td>...</td>\n",
              "      <td>...</td>\n",
              "      <td>...</td>\n",
              "      <td>...</td>\n",
              "      <td>...</td>\n",
              "      <td>...</td>\n",
              "    </tr>\n",
              "    <tr>\n",
              "      <th>13535</th>\n",
              "      <td>-122.0</td>\n",
              "      <td>37.0</td>\n",
              "      <td>16.0</td>\n",
              "      <td>4907.0</td>\n",
              "      <td>1117.0</td>\n",
              "      <td>2265.0</td>\n",
              "      <td>1048.0</td>\n",
              "      <td>2.7</td>\n",
              "      <td>229.2</td>\n",
              "    </tr>\n",
              "    <tr>\n",
              "      <th>11991</th>\n",
              "      <td>-121.4</td>\n",
              "      <td>38.6</td>\n",
              "      <td>45.0</td>\n",
              "      <td>2696.0</td>\n",
              "      <td>624.0</td>\n",
              "      <td>1059.0</td>\n",
              "      <td>582.0</td>\n",
              "      <td>1.8</td>\n",
              "      <td>160.9</td>\n",
              "    </tr>\n",
              "    <tr>\n",
              "      <th>14418</th>\n",
              "      <td>-122.1</td>\n",
              "      <td>37.4</td>\n",
              "      <td>33.0</td>\n",
              "      <td>2892.0</td>\n",
              "      <td>617.0</td>\n",
              "      <td>1250.0</td>\n",
              "      <td>581.0</td>\n",
              "      <td>5.4</td>\n",
              "      <td>360.9</td>\n",
              "    </tr>\n",
              "    <tr>\n",
              "      <th>14628</th>\n",
              "      <td>-122.2</td>\n",
              "      <td>37.8</td>\n",
              "      <td>43.0</td>\n",
              "      <td>1587.0</td>\n",
              "      <td>320.0</td>\n",
              "      <td>907.0</td>\n",
              "      <td>306.0</td>\n",
              "      <td>2.0</td>\n",
              "      <td>98.3</td>\n",
              "    </tr>\n",
              "    <tr>\n",
              "      <th>122</th>\n",
              "      <td>-116.0</td>\n",
              "      <td>33.3</td>\n",
              "      <td>27.0</td>\n",
              "      <td>322.0</td>\n",
              "      <td>81.0</td>\n",
              "      <td>112.0</td>\n",
              "      <td>57.0</td>\n",
              "      <td>1.1</td>\n",
              "      <td>54.4</td>\n",
              "    </tr>\n",
              "  </tbody>\n",
              "</table>\n",
              "<p>17000 rows × 9 columns</p>\n",
              "</div>"
            ],
            "text/plain": [
              "       longitude  latitude  housing_median_age  total_rooms  total_bedrooms  \\\n",
              "8306      -118.5      34.0                48.0       1923.0           408.0   \n",
              "6637      -118.3      33.9                37.0        742.0           151.0   \n",
              "17        -114.7      32.8                21.0         44.0            33.0   \n",
              "6705      -118.3      34.0                42.0       1680.0           557.0   \n",
              "15169     -122.3      37.5                17.0       2742.0           441.0   \n",
              "...          ...       ...                 ...          ...             ...   \n",
              "13535     -122.0      37.0                16.0       4907.0          1117.0   \n",
              "11991     -121.4      38.6                45.0       2696.0           624.0   \n",
              "14418     -122.1      37.4                33.0       2892.0           617.0   \n",
              "14628     -122.2      37.8                43.0       1587.0           320.0   \n",
              "122       -116.0      33.3                27.0        322.0            81.0   \n",
              "\n",
              "       population  households  median_income  median_house_value  \n",
              "8306       1142.0       433.0            4.6               326.7  \n",
              "6637        729.0       144.0            3.1               105.4  \n",
              "17           64.0        27.0            0.9                25.0  \n",
              "6705       2099.0       526.0            1.9               136.4  \n",
              "15169       986.0       421.0            5.9               496.0  \n",
              "...           ...         ...            ...                 ...  \n",
              "13535      2265.0      1048.0            2.7               229.2  \n",
              "11991      1059.0       582.0            1.8               160.9  \n",
              "14418      1250.0       581.0            5.4               360.9  \n",
              "14628       907.0       306.0            2.0                98.3  \n",
              "122         112.0        57.0            1.1                54.4  \n",
              "\n",
              "[17000 rows x 9 columns]"
            ]
          },
          "metadata": {
            "tags": []
          },
          "execution_count": 5
        }
      ]
    },
    {
      "metadata": {
        "id": "Gnv_iGOVuzSP",
        "colab_type": "code",
        "colab": {
          "base_uri": "https://localhost:8080/",
          "height": 224
        },
        "outputId": "8c01d995-cd64-475d-842c-56069c070369"
      },
      "cell_type": "code",
      "source": [
        "california_housing_dataframe.head()"
      ],
      "execution_count": 6,
      "outputs": [
        {
          "output_type": "execute_result",
          "data": {
            "text/html": [
              "<div>\n",
              "<style scoped>\n",
              "    .dataframe tbody tr th:only-of-type {\n",
              "        vertical-align: middle;\n",
              "    }\n",
              "\n",
              "    .dataframe tbody tr th {\n",
              "        vertical-align: top;\n",
              "    }\n",
              "\n",
              "    .dataframe thead th {\n",
              "        text-align: right;\n",
              "    }\n",
              "</style>\n",
              "<table border=\"1\" class=\"dataframe\">\n",
              "  <thead>\n",
              "    <tr style=\"text-align: right;\">\n",
              "      <th></th>\n",
              "      <th>longitude</th>\n",
              "      <th>latitude</th>\n",
              "      <th>housing_median_age</th>\n",
              "      <th>total_rooms</th>\n",
              "      <th>total_bedrooms</th>\n",
              "      <th>population</th>\n",
              "      <th>households</th>\n",
              "      <th>median_income</th>\n",
              "      <th>median_house_value</th>\n",
              "    </tr>\n",
              "  </thead>\n",
              "  <tbody>\n",
              "    <tr>\n",
              "      <th>8306</th>\n",
              "      <td>-118.5</td>\n",
              "      <td>34.0</td>\n",
              "      <td>48.0</td>\n",
              "      <td>1923.0</td>\n",
              "      <td>408.0</td>\n",
              "      <td>1142.0</td>\n",
              "      <td>433.0</td>\n",
              "      <td>4.6</td>\n",
              "      <td>326.7</td>\n",
              "    </tr>\n",
              "    <tr>\n",
              "      <th>6637</th>\n",
              "      <td>-118.3</td>\n",
              "      <td>33.9</td>\n",
              "      <td>37.0</td>\n",
              "      <td>742.0</td>\n",
              "      <td>151.0</td>\n",
              "      <td>729.0</td>\n",
              "      <td>144.0</td>\n",
              "      <td>3.1</td>\n",
              "      <td>105.4</td>\n",
              "    </tr>\n",
              "    <tr>\n",
              "      <th>17</th>\n",
              "      <td>-114.7</td>\n",
              "      <td>32.8</td>\n",
              "      <td>21.0</td>\n",
              "      <td>44.0</td>\n",
              "      <td>33.0</td>\n",
              "      <td>64.0</td>\n",
              "      <td>27.0</td>\n",
              "      <td>0.9</td>\n",
              "      <td>25.0</td>\n",
              "    </tr>\n",
              "    <tr>\n",
              "      <th>6705</th>\n",
              "      <td>-118.3</td>\n",
              "      <td>34.0</td>\n",
              "      <td>42.0</td>\n",
              "      <td>1680.0</td>\n",
              "      <td>557.0</td>\n",
              "      <td>2099.0</td>\n",
              "      <td>526.0</td>\n",
              "      <td>1.9</td>\n",
              "      <td>136.4</td>\n",
              "    </tr>\n",
              "    <tr>\n",
              "      <th>15169</th>\n",
              "      <td>-122.3</td>\n",
              "      <td>37.5</td>\n",
              "      <td>17.0</td>\n",
              "      <td>2742.0</td>\n",
              "      <td>441.0</td>\n",
              "      <td>986.0</td>\n",
              "      <td>421.0</td>\n",
              "      <td>5.9</td>\n",
              "      <td>496.0</td>\n",
              "    </tr>\n",
              "  </tbody>\n",
              "</table>\n",
              "</div>"
            ],
            "text/plain": [
              "       longitude  latitude  housing_median_age  total_rooms  total_bedrooms  \\\n",
              "8306      -118.5      34.0                48.0       1923.0           408.0   \n",
              "6637      -118.3      33.9                37.0        742.0           151.0   \n",
              "17        -114.7      32.8                21.0         44.0            33.0   \n",
              "6705      -118.3      34.0                42.0       1680.0           557.0   \n",
              "15169     -122.3      37.5                17.0       2742.0           441.0   \n",
              "\n",
              "       population  households  median_income  median_house_value  \n",
              "8306       1142.0       433.0            4.6               326.7  \n",
              "6637        729.0       144.0            3.1               105.4  \n",
              "17           64.0        27.0            0.9                25.0  \n",
              "6705       2099.0       526.0            1.9               136.4  \n",
              "15169       986.0       421.0            5.9               496.0  "
            ]
          },
          "metadata": {
            "tags": []
          },
          "execution_count": 6
        }
      ]
    },
    {
      "metadata": {
        "id": "F51zw3l8u4VL",
        "colab_type": "code",
        "colab": {
          "base_uri": "https://localhost:8080/",
          "height": 317
        },
        "outputId": "04ff0eba-5d6e-466d-9159-733c029ef6eb"
      },
      "cell_type": "code",
      "source": [
        "california_housing_dataframe.describe()"
      ],
      "execution_count": 30,
      "outputs": [
        {
          "output_type": "execute_result",
          "data": {
            "text/html": [
              "<div>\n",
              "<style scoped>\n",
              "    .dataframe tbody tr th:only-of-type {\n",
              "        vertical-align: middle;\n",
              "    }\n",
              "\n",
              "    .dataframe tbody tr th {\n",
              "        vertical-align: top;\n",
              "    }\n",
              "\n",
              "    .dataframe thead th {\n",
              "        text-align: right;\n",
              "    }\n",
              "</style>\n",
              "<table border=\"1\" class=\"dataframe\">\n",
              "  <thead>\n",
              "    <tr style=\"text-align: right;\">\n",
              "      <th></th>\n",
              "      <th>longitude</th>\n",
              "      <th>latitude</th>\n",
              "      <th>housing_median_age</th>\n",
              "      <th>total_rooms</th>\n",
              "      <th>total_bedrooms</th>\n",
              "      <th>population</th>\n",
              "      <th>households</th>\n",
              "      <th>median_income</th>\n",
              "      <th>median_house_value</th>\n",
              "    </tr>\n",
              "  </thead>\n",
              "  <tbody>\n",
              "    <tr>\n",
              "      <th>count</th>\n",
              "      <td>17000.0</td>\n",
              "      <td>17000.0</td>\n",
              "      <td>17000.0</td>\n",
              "      <td>17000.0</td>\n",
              "      <td>17000.0</td>\n",
              "      <td>17000.0</td>\n",
              "      <td>17000.0</td>\n",
              "      <td>17000.0</td>\n",
              "      <td>17000.0</td>\n",
              "    </tr>\n",
              "    <tr>\n",
              "      <th>mean</th>\n",
              "      <td>-119.6</td>\n",
              "      <td>35.6</td>\n",
              "      <td>28.6</td>\n",
              "      <td>2643.7</td>\n",
              "      <td>539.4</td>\n",
              "      <td>1429.6</td>\n",
              "      <td>501.2</td>\n",
              "      <td>3.9</td>\n",
              "      <td>207.3</td>\n",
              "    </tr>\n",
              "    <tr>\n",
              "      <th>std</th>\n",
              "      <td>2.0</td>\n",
              "      <td>2.1</td>\n",
              "      <td>12.6</td>\n",
              "      <td>2179.9</td>\n",
              "      <td>421.5</td>\n",
              "      <td>1147.9</td>\n",
              "      <td>384.5</td>\n",
              "      <td>1.9</td>\n",
              "      <td>116.0</td>\n",
              "    </tr>\n",
              "    <tr>\n",
              "      <th>min</th>\n",
              "      <td>-124.3</td>\n",
              "      <td>32.5</td>\n",
              "      <td>1.0</td>\n",
              "      <td>2.0</td>\n",
              "      <td>1.0</td>\n",
              "      <td>3.0</td>\n",
              "      <td>1.0</td>\n",
              "      <td>0.5</td>\n",
              "      <td>15.0</td>\n",
              "    </tr>\n",
              "    <tr>\n",
              "      <th>25%</th>\n",
              "      <td>-121.8</td>\n",
              "      <td>33.9</td>\n",
              "      <td>18.0</td>\n",
              "      <td>1462.0</td>\n",
              "      <td>297.0</td>\n",
              "      <td>790.0</td>\n",
              "      <td>282.0</td>\n",
              "      <td>2.6</td>\n",
              "      <td>119.4</td>\n",
              "    </tr>\n",
              "    <tr>\n",
              "      <th>50%</th>\n",
              "      <td>-118.5</td>\n",
              "      <td>34.2</td>\n",
              "      <td>29.0</td>\n",
              "      <td>2127.0</td>\n",
              "      <td>434.0</td>\n",
              "      <td>1167.0</td>\n",
              "      <td>409.0</td>\n",
              "      <td>3.5</td>\n",
              "      <td>180.4</td>\n",
              "    </tr>\n",
              "    <tr>\n",
              "      <th>75%</th>\n",
              "      <td>-118.0</td>\n",
              "      <td>37.7</td>\n",
              "      <td>37.0</td>\n",
              "      <td>3151.2</td>\n",
              "      <td>648.2</td>\n",
              "      <td>1721.0</td>\n",
              "      <td>605.2</td>\n",
              "      <td>4.8</td>\n",
              "      <td>265.0</td>\n",
              "    </tr>\n",
              "    <tr>\n",
              "      <th>max</th>\n",
              "      <td>-114.3</td>\n",
              "      <td>42.0</td>\n",
              "      <td>52.0</td>\n",
              "      <td>37937.0</td>\n",
              "      <td>6445.0</td>\n",
              "      <td>35682.0</td>\n",
              "      <td>6082.0</td>\n",
              "      <td>15.0</td>\n",
              "      <td>500.0</td>\n",
              "    </tr>\n",
              "  </tbody>\n",
              "</table>\n",
              "</div>"
            ],
            "text/plain": [
              "       longitude  latitude  housing_median_age  total_rooms  total_bedrooms  \\\n",
              "count    17000.0   17000.0             17000.0      17000.0         17000.0   \n",
              "mean      -119.6      35.6                28.6       2643.7           539.4   \n",
              "std          2.0       2.1                12.6       2179.9           421.5   \n",
              "min       -124.3      32.5                 1.0          2.0             1.0   \n",
              "25%       -121.8      33.9                18.0       1462.0           297.0   \n",
              "50%       -118.5      34.2                29.0       2127.0           434.0   \n",
              "75%       -118.0      37.7                37.0       3151.2           648.2   \n",
              "max       -114.3      42.0                52.0      37937.0          6445.0   \n",
              "\n",
              "       population  households  median_income  median_house_value  \n",
              "count     17000.0     17000.0        17000.0             17000.0  \n",
              "mean       1429.6       501.2            3.9               207.3  \n",
              "std        1147.9       384.5            1.9               116.0  \n",
              "min           3.0         1.0            0.5                15.0  \n",
              "25%         790.0       282.0            2.6               119.4  \n",
              "50%        1167.0       409.0            3.5               180.4  \n",
              "75%        1721.0       605.2            4.8               265.0  \n",
              "max       35682.0      6082.0           15.0               500.0  "
            ]
          },
          "metadata": {
            "tags": []
          },
          "execution_count": 30
        }
      ]
    },
    {
      "metadata": {
        "id": "HzzlSs3PtTmt",
        "colab_type": "text"
      },
      "cell_type": "markdown",
      "source": [
        " ## 检查数据\n",
        "\n",
        "建议您在使用数据之前，先对它有一个初步的了解。\n",
        "\n",
        "我们会输出关于各列的一些实用统计信息快速摘要：样本数、均值、标准偏差、最大值、最小值和各种分位数。"
      ]
    },
    {
      "metadata": {
        "id": "gzb10yoVrydW",
        "colab_type": "code",
        "colab": {
          "base_uri": "https://localhost:8080/",
          "height": 317
        },
        "outputId": "d19394ba-74d0-42f6-9cdf-8b0b63ebbc8c"
      },
      "cell_type": "code",
      "source": [
        "california_housing_dataframe.describe()"
      ],
      "execution_count": 31,
      "outputs": [
        {
          "output_type": "execute_result",
          "data": {
            "text/html": [
              "<div>\n",
              "<style scoped>\n",
              "    .dataframe tbody tr th:only-of-type {\n",
              "        vertical-align: middle;\n",
              "    }\n",
              "\n",
              "    .dataframe tbody tr th {\n",
              "        vertical-align: top;\n",
              "    }\n",
              "\n",
              "    .dataframe thead th {\n",
              "        text-align: right;\n",
              "    }\n",
              "</style>\n",
              "<table border=\"1\" class=\"dataframe\">\n",
              "  <thead>\n",
              "    <tr style=\"text-align: right;\">\n",
              "      <th></th>\n",
              "      <th>longitude</th>\n",
              "      <th>latitude</th>\n",
              "      <th>housing_median_age</th>\n",
              "      <th>total_rooms</th>\n",
              "      <th>total_bedrooms</th>\n",
              "      <th>population</th>\n",
              "      <th>households</th>\n",
              "      <th>median_income</th>\n",
              "      <th>median_house_value</th>\n",
              "    </tr>\n",
              "  </thead>\n",
              "  <tbody>\n",
              "    <tr>\n",
              "      <th>count</th>\n",
              "      <td>17000.0</td>\n",
              "      <td>17000.0</td>\n",
              "      <td>17000.0</td>\n",
              "      <td>17000.0</td>\n",
              "      <td>17000.0</td>\n",
              "      <td>17000.0</td>\n",
              "      <td>17000.0</td>\n",
              "      <td>17000.0</td>\n",
              "      <td>17000.0</td>\n",
              "    </tr>\n",
              "    <tr>\n",
              "      <th>mean</th>\n",
              "      <td>-119.6</td>\n",
              "      <td>35.6</td>\n",
              "      <td>28.6</td>\n",
              "      <td>2643.7</td>\n",
              "      <td>539.4</td>\n",
              "      <td>1429.6</td>\n",
              "      <td>501.2</td>\n",
              "      <td>3.9</td>\n",
              "      <td>207.3</td>\n",
              "    </tr>\n",
              "    <tr>\n",
              "      <th>std</th>\n",
              "      <td>2.0</td>\n",
              "      <td>2.1</td>\n",
              "      <td>12.6</td>\n",
              "      <td>2179.9</td>\n",
              "      <td>421.5</td>\n",
              "      <td>1147.9</td>\n",
              "      <td>384.5</td>\n",
              "      <td>1.9</td>\n",
              "      <td>116.0</td>\n",
              "    </tr>\n",
              "    <tr>\n",
              "      <th>min</th>\n",
              "      <td>-124.3</td>\n",
              "      <td>32.5</td>\n",
              "      <td>1.0</td>\n",
              "      <td>2.0</td>\n",
              "      <td>1.0</td>\n",
              "      <td>3.0</td>\n",
              "      <td>1.0</td>\n",
              "      <td>0.5</td>\n",
              "      <td>15.0</td>\n",
              "    </tr>\n",
              "    <tr>\n",
              "      <th>25%</th>\n",
              "      <td>-121.8</td>\n",
              "      <td>33.9</td>\n",
              "      <td>18.0</td>\n",
              "      <td>1462.0</td>\n",
              "      <td>297.0</td>\n",
              "      <td>790.0</td>\n",
              "      <td>282.0</td>\n",
              "      <td>2.6</td>\n",
              "      <td>119.4</td>\n",
              "    </tr>\n",
              "    <tr>\n",
              "      <th>50%</th>\n",
              "      <td>-118.5</td>\n",
              "      <td>34.2</td>\n",
              "      <td>29.0</td>\n",
              "      <td>2127.0</td>\n",
              "      <td>434.0</td>\n",
              "      <td>1167.0</td>\n",
              "      <td>409.0</td>\n",
              "      <td>3.5</td>\n",
              "      <td>180.4</td>\n",
              "    </tr>\n",
              "    <tr>\n",
              "      <th>75%</th>\n",
              "      <td>-118.0</td>\n",
              "      <td>37.7</td>\n",
              "      <td>37.0</td>\n",
              "      <td>3151.2</td>\n",
              "      <td>648.2</td>\n",
              "      <td>1721.0</td>\n",
              "      <td>605.2</td>\n",
              "      <td>4.8</td>\n",
              "      <td>265.0</td>\n",
              "    </tr>\n",
              "    <tr>\n",
              "      <th>max</th>\n",
              "      <td>-114.3</td>\n",
              "      <td>42.0</td>\n",
              "      <td>52.0</td>\n",
              "      <td>37937.0</td>\n",
              "      <td>6445.0</td>\n",
              "      <td>35682.0</td>\n",
              "      <td>6082.0</td>\n",
              "      <td>15.0</td>\n",
              "      <td>500.0</td>\n",
              "    </tr>\n",
              "  </tbody>\n",
              "</table>\n",
              "</div>"
            ],
            "text/plain": [
              "       longitude  latitude  housing_median_age  total_rooms  total_bedrooms  \\\n",
              "count    17000.0   17000.0             17000.0      17000.0         17000.0   \n",
              "mean      -119.6      35.6                28.6       2643.7           539.4   \n",
              "std          2.0       2.1                12.6       2179.9           421.5   \n",
              "min       -124.3      32.5                 1.0          2.0             1.0   \n",
              "25%       -121.8      33.9                18.0       1462.0           297.0   \n",
              "50%       -118.5      34.2                29.0       2127.0           434.0   \n",
              "75%       -118.0      37.7                37.0       3151.2           648.2   \n",
              "max       -114.3      42.0                52.0      37937.0          6445.0   \n",
              "\n",
              "       population  households  median_income  median_house_value  \n",
              "count     17000.0     17000.0        17000.0             17000.0  \n",
              "mean       1429.6       501.2            3.9               207.3  \n",
              "std        1147.9       384.5            1.9               116.0  \n",
              "min           3.0         1.0            0.5                15.0  \n",
              "25%         790.0       282.0            2.6               119.4  \n",
              "50%        1167.0       409.0            3.5               180.4  \n",
              "75%        1721.0       605.2            4.8               265.0  \n",
              "max       35682.0      6082.0           15.0               500.0  "
            ]
          },
          "metadata": {
            "tags": []
          },
          "execution_count": 31
        }
      ]
    },
    {
      "metadata": {
        "id": "Lr6wYl2bt2Ep",
        "colab_type": "text"
      },
      "cell_type": "markdown",
      "source": [
        " ## 构建第一个模型\n",
        "\n",
        "在本练习中，我们将尝试预测 `median_house_value`，它将是我们的标签（有时也称为目标）。我们将使用 `total_rooms` 作为输入特征。\n",
        "\n",
        "**注意**：我们使用的是城市街区级别的数据，因此该特征表示相应街区的房间总数。\n",
        "\n",
        "为了训练模型，我们将使用 TensorFlow [Estimator](https://www.tensorflow.org/get_started/estimator) API 提供的 [LinearRegressor](https://www.tensorflow.org/api_docs/python/tf/estimator/LinearRegressor) 接口。此 API 负责处理大量低级别模型搭建工作，并会提供执行模型训练、评估和推理的便利方法。"
      ]
    },
    {
      "metadata": {
        "id": "0cpcsieFhsNI",
        "colab_type": "text"
      },
      "cell_type": "markdown",
      "source": [
        " ### 第 1 步：定义特征并配置特征列"
      ]
    },
    {
      "metadata": {
        "id": "EL8-9d4ZJNR7",
        "colab_type": "text"
      },
      "cell_type": "markdown",
      "source": [
        " 为了将我们的训练数据导入 TensorFlow，我们需要指定每个特征包含的数据类型。在本练习及今后的练习中，我们主要会使用以下两类数据：\n",
        "\n",
        "* **分类数据**：一种文字数据。在本练习中，我们的住房数据集不包含任何分类特征，但您可能会看到的示例包括家居风格以及房地产广告词。\n",
        "\n",
        "* **数值数据**：一种数字（整数或浮点数）数据以及您希望视为数字的数据。有时您可能会希望将数值数据（例如邮政编码）视为分类数据（我们将在稍后的部分对此进行详细说明）。\n",
        "\n",
        "在 TensorFlow 中，我们使用一种称为“**特征列**”的结构来表示特征的数据类型。特征列仅存储对特征数据的描述；不包含特征数据本身。\n",
        "\n",
        "一开始，我们只使用一个数值输入特征 `total_rooms`。以下代码会从 `california_housing_dataframe` 中提取 `total_rooms` 数据，并使用 `numeric_column` 定义特征列，这样会将其数据指定为数值："
      ]
    },
    {
      "metadata": {
        "id": "rhEbFCZ86cDZ",
        "colab_type": "code",
        "colab": {
          "base_uri": "https://localhost:8080/",
          "height": 273
        },
        "outputId": "d18a0a44-41fd-4985-b3cd-d5378ef7cad2"
      },
      "cell_type": "code",
      "source": [
        "# Define the input feature: total_rooms.\n",
        "my_feature = california_housing_dataframe[[\"total_rooms\"]]\n",
        "print(type(my_feature))\n",
        "print(my_feature)\n",
        "# Configure a numeric feature column for total_rooms.\n",
        "feature_columns = [tf.feature_column.numeric_column(\"total_rooms\")]"
      ],
      "execution_count": 7,
      "outputs": [
        {
          "output_type": "stream",
          "text": [
            "<class 'pandas.core.frame.DataFrame'>\n",
            "       total_rooms\n",
            "8306        1923.0\n",
            "6637         742.0\n",
            "17            44.0\n",
            "6705        1680.0\n",
            "15169       2742.0\n",
            "...            ...\n",
            "13535       4907.0\n",
            "11991       2696.0\n",
            "14418       2892.0\n",
            "14628       1587.0\n",
            "122          322.0\n",
            "\n",
            "[17000 rows x 1 columns]\n"
          ],
          "name": "stdout"
        }
      ]
    },
    {
      "metadata": {
        "id": "9y-J64jT4rC0",
        "colab_type": "code",
        "colab": {
          "base_uri": "https://localhost:8080/",
          "height": 307
        },
        "outputId": "2c900e8f-8988-4496-b1b0-4350a4c07e6c"
      },
      "cell_type": "code",
      "source": [
        "my_feature = california_housing_dataframe[[\"total_rooms\"]]\n",
        "print(type(my_feature))\n",
        "print(my_feature)\n",
        "feature_columns = [tf.feature_column.numeric_column(\"total_rooms\")]\n",
        "print(type(feature_columns))\n",
        "print(feature_columns)"
      ],
      "execution_count": 8,
      "outputs": [
        {
          "output_type": "stream",
          "text": [
            "<class 'pandas.core.frame.DataFrame'>\n",
            "       total_rooms\n",
            "8306        1923.0\n",
            "6637         742.0\n",
            "17            44.0\n",
            "6705        1680.0\n",
            "15169       2742.0\n",
            "...            ...\n",
            "13535       4907.0\n",
            "11991       2696.0\n",
            "14418       2892.0\n",
            "14628       1587.0\n",
            "122          322.0\n",
            "\n",
            "[17000 rows x 1 columns]\n",
            "<type 'list'>\n",
            "[_NumericColumn(key='total_rooms', shape=(1,), default_value=None, dtype=tf.float32, normalizer_fn=None)]\n"
          ],
          "name": "stdout"
        }
      ]
    },
    {
      "metadata": {
        "id": "K_3S8teX7Rd2",
        "colab_type": "text"
      },
      "cell_type": "markdown",
      "source": [
        " **注意**：`total_rooms` 数据的形状是一维数组（每个街区的房间总数列表）。这是 `numeric_column` 的默认形状，因此我们不必将其作为参数传递。"
      ]
    },
    {
      "metadata": {
        "id": "UMl3qrU5MGV6",
        "colab_type": "text"
      },
      "cell_type": "markdown",
      "source": [
        " ### 第 2 步：定义目标"
      ]
    },
    {
      "metadata": {
        "id": "cw4nrfcB7kyk",
        "colab_type": "text"
      },
      "cell_type": "markdown",
      "source": [
        " 接下来，我们将定义目标，也就是 `median_house_value`。同样，我们可以从 `california_housing_dataframe` 中提取它："
      ]
    },
    {
      "metadata": {
        "id": "l1NvvNkH8Kbt",
        "colab_type": "code",
        "colab": {
          "base_uri": "https://localhost:8080/",
          "height": 239
        },
        "outputId": "3e5615a4-f8a4-4c77-8ed8-129e92068941"
      },
      "cell_type": "code",
      "source": [
        "# Define the label.\n",
        "targets = california_housing_dataframe[\"median_house_value\"]\n",
        "print(type(targets))\n",
        "print(targets)"
      ],
      "execution_count": 9,
      "outputs": [
        {
          "output_type": "stream",
          "text": [
            "<class 'pandas.core.series.Series'>\n",
            "8306    326.7\n",
            "6637    105.4\n",
            "17       25.0\n",
            "6705    136.4\n",
            "15169   496.0\n",
            "         ... \n",
            "13535   229.2\n",
            "11991   160.9\n",
            "14418   360.9\n",
            "14628    98.3\n",
            "122      54.4\n",
            "Name: median_house_value, Length: 17000, dtype: float64\n"
          ],
          "name": "stdout"
        }
      ]
    },
    {
      "metadata": {
        "id": "pHzEw7EX5e-L",
        "colab_type": "code",
        "colab": {
          "base_uri": "https://localhost:8080/",
          "height": 239
        },
        "outputId": "e1b4f568-d336-4341-fa3f-fd8c571991a4"
      },
      "cell_type": "code",
      "source": [
        "targets = california_housing_dataframe[\"median_house_value\"]\n",
        "print(type(targets))\n",
        "print(targets)"
      ],
      "execution_count": 45,
      "outputs": [
        {
          "output_type": "stream",
          "text": [
            "<class 'pandas.core.series.Series'>\n",
            "9683     73.0\n",
            "2388    216.7\n",
            "10479   139.1\n",
            "4509    201.9\n",
            "5020    244.9\n",
            "         ... \n",
            "15931   222.7\n",
            "3485    287.2\n",
            "16783   120.0\n",
            "16154   500.0\n",
            "7878    500.0\n",
            "Name: median_house_value, Length: 17000, dtype: float64\n"
          ],
          "name": "stdout"
        }
      ]
    },
    {
      "metadata": {
        "id": "4M-rTFHL2UkA",
        "colab_type": "text"
      },
      "cell_type": "markdown",
      "source": [
        " ### 第 3 步：配置 LinearRegressor"
      ]
    },
    {
      "metadata": {
        "id": "fUfGQUNp7jdL",
        "colab_type": "text"
      },
      "cell_type": "markdown",
      "source": [
        " 接下来，我们将使用 LinearRegressor 配置线性回归模型，并使用 `GradientDescentOptimizer`（它会实现小批量随机梯度下降法 (SGD)）训练该模型。`learning_rate` 参数可控制梯度步长的大小。\n",
        "\n",
        "**注意**：为了安全起见，我们还会通过 `clip_gradients_by_norm` 将[梯度裁剪](https://developers.google.com/machine-learning/glossary/#gradient_clipping)应用到我们的优化器。梯度裁剪可确保梯度大小在训练期间不会变得过大，梯度过大会导致梯度下降法失败。"
      ]
    },
    {
      "metadata": {
        "id": "ubhtW-NGU802",
        "colab_type": "code",
        "colab": {
          "base_uri": "https://localhost:8080/",
          "height": 17
        },
        "outputId": "3c4afc91-5567-4a3b-deb6-169713bb1311"
      },
      "cell_type": "code",
      "source": [
        "# Use gradient descent as the optimizer for training the model.\n",
        "# targets Series\n",
        "# my_feature DataFrame\n",
        "# feature_columns List[_Numberic ELements]\n",
        "# learning_rate:step length\n",
        "my_optimizer=tf.train.GradientDescentOptimizer(learning_rate=0.0000001)\n",
        "my_optimizer = tf.contrib.estimator.clip_gradients_by_norm(my_optimizer, 5.0)\n",
        "\n",
        "# Configure the linear regression model with our feature columns and optimizer.\n",
        "# Set a learning rate of 0.0000001 for Gradient Descent.\n",
        "linear_regressor = tf.estimator.LinearRegressor(\n",
        "    feature_columns=feature_columns,\n",
        "    optimizer=my_optimizer\n",
        ")"
      ],
      "execution_count": 10,
      "outputs": []
    },
    {
      "metadata": {
        "id": "QYgLd4xi7Ayr",
        "colab_type": "code",
        "colab": {
          "base_uri": "https://localhost:8080/",
          "height": 17
        },
        "outputId": "d8f03f0d-c294-401c-e4aa-041640f62a76"
      },
      "cell_type": "code",
      "source": [
        "# Use gradient descent as the optimizer for training the model.\n",
        "# targets Series\n",
        "# my_feature DataFrame\n",
        "# feature_columns List[_Numberic ELements]\n",
        "# learning_rate:step length\n",
        "my_optimizer = tf.train.GradientDescentOptimizer(learning_rate=0.000001)\n",
        "my_optimizer = tf.contrib.estimator.clip_gradients_by_norm(my_optimizer,5.0)\n",
        "# Configure the linear regression model with our feature columns and optimizer.\n",
        "# Set a learning rate of 0.0000001 for Gradient Descent.\n",
        "linear_regressor = tf.estimator.LinearRegressor(\n",
        "    feature_columns=feature_columns,\n",
        "    optimizer=my_optimizer\n",
        ")"
      ],
      "execution_count": 11,
      "outputs": []
    },
    {
      "metadata": {
        "id": "-0IztwdK2f3F",
        "colab_type": "text"
      },
      "cell_type": "markdown",
      "source": [
        " ### 第 4 步：定义输入函数"
      ]
    },
    {
      "metadata": {
        "id": "S5M5j6xSCHxx",
        "colab_type": "text"
      },
      "cell_type": "markdown",
      "source": [
        " 要将加利福尼亚州住房数据导入 `LinearRegressor`，我们需要定义一个输入函数，让它告诉 TensorFlow 如何对数据进行预处理，以及在模型训练期间如何批处理、随机处理和重复数据。\n",
        "\n",
        "首先，我们将 *Pandas* 特征数据转换成 NumPy 数组字典。然后，我们可以使用 TensorFlow [Dataset API](https://www.tensorflow.org/programmers_guide/datasets) 根据我们的数据构建 Dataset 对象，并将数据拆分成大小为 `batch_size` 的多批数据，以按照指定周期数 (num_epochs) 进行重复。\n",
        "\n",
        "**注意**：如果将默认值 `num_epochs=None` 传递到 `repeat()`，输入数据会无限期重复。\n",
        "\n",
        "然后，如果 `shuffle` 设置为 `True`，则我们会对数据进行随机处理，以便数据在训练期间以随机方式传递到模型。`buffer_size` 参数会指定 `shuffle` 将从中随机抽样的数据集的大小。\n",
        "\n",
        "最后，输入函数会为该数据集构建一个迭代器，并向 LinearRegressor 返回下一批数据。"
      ]
    },
    {
      "metadata": {
        "id": "RKZ9zNcHJtwc",
        "colab_type": "code",
        "colab": {
          "base_uri": "https://localhost:8080/",
          "height": 17
        },
        "outputId": "b015edf1-2b10-4d87-ffc3-8a6e22497f89"
      },
      "cell_type": "code",
      "source": [
        "def my_input_fn(features, targets, batch_size=1, shuffle=True, num_epochs=None):\n",
        "    \"\"\"Trains a linear regression model of one feature.\n",
        "  \n",
        "    Args:\n",
        "      features: pandas DataFrame of features\n",
        "      targets: pandas DataFrame of targets\n",
        "      batch_size: Size of batches to be passed to the model\n",
        "      shuffle: True or False. Whether to shuffle the data.\n",
        "      num_epochs: Number of epochs for which data should be repeated. None = repeat indefinitely\n",
        "    Returns:\n",
        "      Tuple of (features, labels) for next data batch\n",
        "    \"\"\"\n",
        "  \n",
        "    # Convert pandas data into a dict of np arrays.\n",
        "    features = {key:np.array(value) for key,value in dict(features).items()}                                           \n",
        " \n",
        "    # Construct a dataset, and configure batching/repeating\n",
        "    ds = Dataset.from_tensor_slices((features,targets)) # warning: 2GB limit\n",
        "    ds = ds.batch(batch_size).repeat(num_epochs)\n",
        "    \n",
        "    # Shuffle the data, if specified\n",
        "    if shuffle:\n",
        "      ds = ds.shuffle(buffer_size=10000)\n",
        "    \n",
        "    # Return the next batch of data\n",
        "    features, labels = ds.make_one_shot_iterator().get_next()\n",
        "    return features, labels"
      ],
      "execution_count": 12,
      "outputs": []
    },
    {
      "metadata": {
        "id": "bxcnrEOV9rRD",
        "colab_type": "code",
        "colab": {
          "base_uri": "https://localhost:8080/",
          "height": 17
        },
        "outputId": "eb46d3b9-194c-4c16-d262-5f8d8d13b046"
      },
      "cell_type": "code",
      "source": [
        "def my_input_fn(features,targets,batch_size=1,shuffle=True,num_epochs=None):\n",
        "  print(dict(features))\n",
        "  features = {key:np.array(value) for key,value in dict(features).items()}\n",
        "  ds = Dataset.from_tensor_slices((features,targets))\n",
        "  ds = ds.batch(batch_size).repeat(num_epochs)\n",
        "  if shuffle:\n",
        "    ds = ds.shuffle(buffer_size=10000)\n",
        "  features,labels = ds.make_one_shot_iterator().get_next()\n",
        "  return features,labels"
      ],
      "execution_count": 13,
      "outputs": []
    },
    {
      "metadata": {
        "id": "wwa6UeA1V5F_",
        "colab_type": "text"
      },
      "cell_type": "markdown",
      "source": [
        " **注意**：在后面的练习中，我们会继续使用此输入函数。有关输入函数和 `Dataset` API 的更详细的文档，请参阅 [TensorFlow 编程人员指南](https://www.tensorflow.org/programmers_guide/datasets)。"
      ]
    },
    {
      "metadata": {
        "id": "4YS50CQb2ooO",
        "colab_type": "text"
      },
      "cell_type": "markdown",
      "source": [
        " ### 第 5 步：训练模型"
      ]
    },
    {
      "metadata": {
        "id": "yP92XkzhU803",
        "colab_type": "text"
      },
      "cell_type": "markdown",
      "source": [
        " 现在，我们可以在 `linear_regressor` 上调用 `train()` 来训练模型。我们会将 `my_input_fn` 封装在 `lambda` 中，以便可以将 `my_feature` 和 `target` 作为参数传入（有关详情，请参阅此 [TensorFlow 输入函数教程](https://www.tensorflow.org/get_started/input_fn#passing_input_fn_data_to_your_model)），首先，我们会训练 100 步。"
      ]
    },
    {
      "metadata": {
        "id": "5M-Kt6w8U803",
        "colab_type": "code",
        "colab": {
          "base_uri": "https://localhost:8080/",
          "height": 222
        },
        "outputId": "92ca71e6-0535-40cb-cdda-4afeb1d0b88f"
      },
      "cell_type": "code",
      "source": [
        "_ = linear_regressor.train(\n",
        "    input_fn = lambda:my_input_fn(my_feature, targets),\n",
        "    steps=100\n",
        ")"
      ],
      "execution_count": 14,
      "outputs": [
        {
          "output_type": "stream",
          "text": [
            "{'total_rooms': 8306    1923.0\n",
            "6637     742.0\n",
            "17        44.0\n",
            "6705    1680.0\n",
            "15169   2742.0\n",
            "         ...  \n",
            "13535   4907.0\n",
            "11991   2696.0\n",
            "14418   2892.0\n",
            "14628   1587.0\n",
            "122      322.0\n",
            "Name: total_rooms, Length: 17000, dtype: float64}\n"
          ],
          "name": "stdout"
        }
      ]
    },
    {
      "metadata": {
        "id": "Fa6cduLM_oRB",
        "colab_type": "code",
        "colab": {
          "base_uri": "https://localhost:8080/",
          "height": 239
        },
        "outputId": "4c7bb583-bdb9-49ca-d34e-973cdf596358"
      },
      "cell_type": "code",
      "source": [
        "_ = linear_regressor.train(\n",
        "    input_fn = lambda:my_input_fn(my_feature,targets),\n",
        "    steps = 100\n",
        ")\n",
        "print(type(_))"
      ],
      "execution_count": 15,
      "outputs": [
        {
          "output_type": "stream",
          "text": [
            "{'total_rooms': 8306    1923.0\n",
            "6637     742.0\n",
            "17        44.0\n",
            "6705    1680.0\n",
            "15169   2742.0\n",
            "         ...  \n",
            "13535   4907.0\n",
            "11991   2696.0\n",
            "14418   2892.0\n",
            "14628   1587.0\n",
            "122      322.0\n",
            "Name: total_rooms, Length: 17000, dtype: float64}\n",
            "<class 'tensorflow.python.estimator.canned.linear.LinearRegressor'>\n"
          ],
          "name": "stdout"
        }
      ]
    },
    {
      "metadata": {
        "id": "7Nwxqxlx2sOv",
        "colab_type": "text"
      },
      "cell_type": "markdown",
      "source": [
        " ### 第 6 步：评估模型"
      ]
    },
    {
      "metadata": {
        "id": "KoDaF2dlJQG5",
        "colab_type": "text"
      },
      "cell_type": "markdown",
      "source": [
        " 我们基于该训练数据做一次预测，看看我们的模型在训练期间与这些数据的拟合情况。\n",
        "\n",
        "**注意**：训练误差可以衡量您的模型与训练数据的拟合情况，但并**_不能_**衡量模型**_泛化到新数据_**的效果。在后面的练习中，您将探索如何拆分数据以评估模型的泛化能力。\n"
      ]
    },
    {
      "metadata": {
        "id": "pDIxp6vcU809",
        "colab_type": "code",
        "colab": {
          "base_uri": "https://localhost:8080/",
          "height": 52
        },
        "outputId": "a2fe36fb-c6da-444e-8076-50ddf84b71ac"
      },
      "cell_type": "code",
      "source": [
        "# Create an input function for predictions.\n",
        "# Note: Since we're making just one prediction for each example, we don't \n",
        "# need to repeat or shuffle the data here.\n",
        "prediction_input_fn =lambda: my_input_fn(my_feature, targets, num_epochs=1, shuffle=False)\n",
        "\n",
        "# Call predict() on the linear_regressor to make predictions.\n",
        "predictions = linear_regressor.predict(input_fn=prediction_input_fn)\n",
        "\n",
        "# Format predictions as a NumPy array, so we can calculate error metrics.\n",
        "predictions = np.array([item['predictions'][0] for item in predictions])\n",
        "\n",
        "# Print Mean Squared Error and Root Mean Squared Error.\n",
        "mean_squared_error = metrics.mean_squared_error(predictions, targets)\n",
        "root_mean_squared_error = math.sqrt(mean_squared_error)\n",
        "print \"Mean Squared Error (on training data): %0.3f\" % mean_squared_error\n",
        "print \"Root Mean Squared Error (on training data): %0.3f\" % root_mean_squared_error"
      ],
      "execution_count": 37,
      "outputs": [
        {
          "output_type": "stream",
          "text": [
            "Mean Squared Error (on training data): 56367.025\n",
            "Root Mean Squared Error (on training data): 237.417\n"
          ],
          "name": "stdout"
        }
      ]
    },
    {
      "metadata": {
        "id": "HDWJOYzAAJxK",
        "colab_type": "code",
        "colab": {
          "base_uri": "https://localhost:8080/",
          "height": 290
        },
        "outputId": "ba667273-782e-4c52-a8b1-e0dba512c78e"
      },
      "cell_type": "code",
      "source": [
        "prediction_input_fn = lambda:my_input_fn(my_feature,targets,num_epochs=1,shuffle=False)\n",
        "predictions = linear_regressor.predict(input_fn=prediction_input_fn)\n",
        "print(type(predictions))\n",
        "print(predictions)\n",
        "predictions = np.array([item['predictions'][0] for item in predictions])\n",
        "mean_squared_error = metrics.mean_squared_error(predictions,targets)\n",
        "root_mean_squared_error = math.sqrt(mean_squared_error)\n",
        "print(\"Mean Squared Error (on training data): %0.3f\" % mean_squared_error)\n",
        "print(\"Root Mean Squared Error (on training data): %0.3f\" % root_mean_squared_error)"
      ],
      "execution_count": 16,
      "outputs": [
        {
          "output_type": "stream",
          "text": [
            "<type 'generator'>\n",
            "<generator object predict at 0x7f4b06a6f9b0>\n",
            "{'total_rooms': 8306    1923.0\n",
            "6637     742.0\n",
            "17        44.0\n",
            "6705    1680.0\n",
            "15169   2742.0\n",
            "         ...  \n",
            "13535   4907.0\n",
            "11991   2696.0\n",
            "14418   2892.0\n",
            "14628   1587.0\n",
            "122      322.0\n",
            "Name: total_rooms, Length: 17000, dtype: float64}\n",
            "Mean Squared Error (on training data): 55274.550\n",
            "Root Mean Squared Error (on training data): 235.105\n"
          ],
          "name": "stdout"
        }
      ]
    },
    {
      "metadata": {
        "id": "AKWstXXPzOVz",
        "colab_type": "text"
      },
      "cell_type": "markdown",
      "source": [
        " 这是出色的模型吗？您如何判断误差有多大？\n",
        "\n",
        "由于均方误差 (MSE) 很难解读，因此我们经常查看的是均方根误差 (RMSE)。RMSE 的一个很好的特性是，它可以在与原目标相同的规模下解读。\n",
        "\n",
        "我们来比较一下 RMSE 与目标最大值和最小值的差值："
      ]
    },
    {
      "metadata": {
        "id": "7UwqGbbxP53O",
        "colab_type": "code",
        "colab": {
          "base_uri": "https://localhost:8080/",
          "height": 86
        },
        "outputId": "81031271-86b0-453d-eff3-aceb991fda79"
      },
      "cell_type": "code",
      "source": [
        "min_house_value = california_housing_dataframe[\"median_house_value\"].min()\n",
        "max_house_value = california_housing_dataframe[\"median_house_value\"].max()\n",
        "min_max_difference = max_house_value - min_house_value\n",
        "\n",
        "print \"Min. Median House Value: %0.3f\" % min_house_value\n",
        "print \"Max. Median House Value: %0.3f\" % max_house_value\n",
        "print \"Difference between Min. and Max.: %0.3f\" % min_max_difference\n",
        "print \"Root Mean Squared Error: %0.3f\" % root_mean_squared_error"
      ],
      "execution_count": 17,
      "outputs": [
        {
          "output_type": "stream",
          "text": [
            "Min. Median House Value: 14.999\n",
            "Max. Median House Value: 500.001\n",
            "Difference between Min. and Max.: 485.002\n",
            "Root Mean Squared Error: 235.105\n"
          ],
          "name": "stdout"
        }
      ]
    },
    {
      "metadata": {
        "id": "6l2G5DoPCETH",
        "colab_type": "code",
        "colab": {
          "base_uri": "https://localhost:8080/",
          "height": 86
        },
        "outputId": "aeef1710-f073-4a86-89a7-da60d39dca5b"
      },
      "cell_type": "code",
      "source": [
        "min_house_value = california_housing_dataframe[\"median_house_value\"].min()\n",
        "max_house_value = california_housing_dataframe[\"median_house_value\"].max()\n",
        "min_max_difference = max_house_value - min_house_value\n",
        "\n",
        "print(\"Min. Median House Value: %0.3f\" % min_house_value)\n",
        "print(\"Max. Median House Value: %0.3f\" % max_house_value)\n",
        "print(\"Difference between Min. and Max.: %0.3f\" % min_max_difference)\n",
        "print(\"Root Mean Squared Error: %0.3f\" % root_mean_squared_error)"
      ],
      "execution_count": 18,
      "outputs": [
        {
          "output_type": "stream",
          "text": [
            "Min. Median House Value: 14.999\n",
            "Max. Median House Value: 500.001\n",
            "Difference between Min. and Max.: 485.002\n",
            "Root Mean Squared Error: 235.105\n"
          ],
          "name": "stdout"
        }
      ]
    },
    {
      "metadata": {
        "id": "JigJr0C7Pzit",
        "colab_type": "text"
      },
      "cell_type": "markdown",
      "source": [
        " 我们的误差跨越目标值的近一半范围，可以进一步缩小误差吗？\n",
        "\n",
        "这是每个模型开发者都会烦恼的问题。我们来制定一些基本策略，以降低模型误差。\n",
        "\n",
        "首先，我们可以了解一下根据总体摘要统计信息，预测和目标的符合情况。"
      ]
    },
    {
      "metadata": {
        "id": "941nclxbzqGH",
        "colab_type": "code",
        "colab": {
          "base_uri": "https://localhost:8080/",
          "height": 297
        },
        "outputId": "74965d5c-fbbb-44c1-928c-70b25fd2e974"
      },
      "cell_type": "code",
      "source": [
        "calibration_data = pd.DataFrame()\n",
        "calibration_data[\"predictions\"] = pd.Series(predictions)\n",
        "calibration_data[\"targets\"] = pd.Series(targets)\n",
        "calibration_data.describe()"
      ],
      "execution_count": 19,
      "outputs": [
        {
          "output_type": "execute_result",
          "data": {
            "text/html": [
              "<div>\n",
              "<style scoped>\n",
              "    .dataframe tbody tr th:only-of-type {\n",
              "        vertical-align: middle;\n",
              "    }\n",
              "\n",
              "    .dataframe tbody tr th {\n",
              "        vertical-align: top;\n",
              "    }\n",
              "\n",
              "    .dataframe thead th {\n",
              "        text-align: right;\n",
              "    }\n",
              "</style>\n",
              "<table border=\"1\" class=\"dataframe\">\n",
              "  <thead>\n",
              "    <tr style=\"text-align: right;\">\n",
              "      <th></th>\n",
              "      <th>predictions</th>\n",
              "      <th>targets</th>\n",
              "    </tr>\n",
              "  </thead>\n",
              "  <tbody>\n",
              "    <tr>\n",
              "      <th>count</th>\n",
              "      <td>17000.0</td>\n",
              "      <td>17000.0</td>\n",
              "    </tr>\n",
              "    <tr>\n",
              "      <th>mean</th>\n",
              "      <td>2.6</td>\n",
              "      <td>207.3</td>\n",
              "    </tr>\n",
              "    <tr>\n",
              "      <th>std</th>\n",
              "      <td>2.2</td>\n",
              "      <td>116.0</td>\n",
              "    </tr>\n",
              "    <tr>\n",
              "      <th>min</th>\n",
              "      <td>0.0</td>\n",
              "      <td>15.0</td>\n",
              "    </tr>\n",
              "    <tr>\n",
              "      <th>25%</th>\n",
              "      <td>1.5</td>\n",
              "      <td>119.4</td>\n",
              "    </tr>\n",
              "    <tr>\n",
              "      <th>50%</th>\n",
              "      <td>2.1</td>\n",
              "      <td>180.4</td>\n",
              "    </tr>\n",
              "    <tr>\n",
              "      <th>75%</th>\n",
              "      <td>3.2</td>\n",
              "      <td>265.0</td>\n",
              "    </tr>\n",
              "    <tr>\n",
              "      <th>max</th>\n",
              "      <td>37.9</td>\n",
              "      <td>500.0</td>\n",
              "    </tr>\n",
              "  </tbody>\n",
              "</table>\n",
              "</div>"
            ],
            "text/plain": [
              "       predictions  targets\n",
              "count      17000.0  17000.0\n",
              "mean           2.6    207.3\n",
              "std            2.2    116.0\n",
              "min            0.0     15.0\n",
              "25%            1.5    119.4\n",
              "50%            2.1    180.4\n",
              "75%            3.2    265.0\n",
              "max           37.9    500.0"
            ]
          },
          "metadata": {
            "tags": []
          },
          "execution_count": 19
        }
      ]
    },
    {
      "metadata": {
        "id": "lmul_t7BECfp",
        "colab_type": "code",
        "colab": {
          "base_uri": "https://localhost:8080/",
          "height": 297
        },
        "outputId": "db3be213-7b67-490d-be55-d04246067591"
      },
      "cell_type": "code",
      "source": [
        "calibration_data = pd.DataFrame()\n",
        "calibration_data[\"predictions\"] = pd.Series(predictions)\n",
        "calibration_data[\"targets\"] = pd.Series(targets)\n",
        "calibration_data.describe()"
      ],
      "execution_count": 59,
      "outputs": [
        {
          "output_type": "execute_result",
          "data": {
            "text/html": [
              "<div>\n",
              "<style scoped>\n",
              "    .dataframe tbody tr th:only-of-type {\n",
              "        vertical-align: middle;\n",
              "    }\n",
              "\n",
              "    .dataframe tbody tr th {\n",
              "        vertical-align: top;\n",
              "    }\n",
              "\n",
              "    .dataframe thead th {\n",
              "        text-align: right;\n",
              "    }\n",
              "</style>\n",
              "<table border=\"1\" class=\"dataframe\">\n",
              "  <thead>\n",
              "    <tr style=\"text-align: right;\">\n",
              "      <th></th>\n",
              "      <th>predictions</th>\n",
              "      <th>targets</th>\n",
              "    </tr>\n",
              "  </thead>\n",
              "  <tbody>\n",
              "    <tr>\n",
              "      <th>count</th>\n",
              "      <td>17000.0</td>\n",
              "      <td>17000.0</td>\n",
              "    </tr>\n",
              "    <tr>\n",
              "      <th>mean</th>\n",
              "      <td>5.3</td>\n",
              "      <td>207.3</td>\n",
              "    </tr>\n",
              "    <tr>\n",
              "      <th>std</th>\n",
              "      <td>4.4</td>\n",
              "      <td>116.0</td>\n",
              "    </tr>\n",
              "    <tr>\n",
              "      <th>min</th>\n",
              "      <td>0.0</td>\n",
              "      <td>15.0</td>\n",
              "    </tr>\n",
              "    <tr>\n",
              "      <th>25%</th>\n",
              "      <td>2.9</td>\n",
              "      <td>119.4</td>\n",
              "    </tr>\n",
              "    <tr>\n",
              "      <th>50%</th>\n",
              "      <td>4.3</td>\n",
              "      <td>180.4</td>\n",
              "    </tr>\n",
              "    <tr>\n",
              "      <th>75%</th>\n",
              "      <td>6.3</td>\n",
              "      <td>265.0</td>\n",
              "    </tr>\n",
              "    <tr>\n",
              "      <th>max</th>\n",
              "      <td>75.9</td>\n",
              "      <td>500.0</td>\n",
              "    </tr>\n",
              "  </tbody>\n",
              "</table>\n",
              "</div>"
            ],
            "text/plain": [
              "       predictions  targets\n",
              "count      17000.0  17000.0\n",
              "mean           5.3    207.3\n",
              "std            4.4    116.0\n",
              "min            0.0     15.0\n",
              "25%            2.9    119.4\n",
              "50%            4.3    180.4\n",
              "75%            6.3    265.0\n",
              "max           75.9    500.0"
            ]
          },
          "metadata": {
            "tags": []
          },
          "execution_count": 59
        }
      ]
    },
    {
      "metadata": {
        "id": "KghJBi9sEhSQ",
        "colab_type": "code",
        "colab": {
          "base_uri": "https://localhost:8080/",
          "height": 120
        },
        "outputId": "76bd51f9-197f-47a5-fe43-d6170fe5b791"
      },
      "cell_type": "code",
      "source": [
        "print(calibration_data.head())"
      ],
      "execution_count": 20,
      "outputs": [
        {
          "output_type": "stream",
          "text": [
            "   predictions  targets\n",
            "0          1.9     66.9\n",
            "1          0.7     80.1\n",
            "2          0.0     85.7\n",
            "3          1.7     73.4\n",
            "4          2.7     65.5\n"
          ],
          "name": "stdout"
        }
      ]
    },
    {
      "metadata": {
        "id": "XGAsdpxMErjd",
        "colab_type": "code",
        "colab": {
          "base_uri": "https://localhost:8080/",
          "height": 204
        },
        "outputId": "3ab6ba2f-e838-4190-8e0c-70d5abc5a1ab"
      },
      "cell_type": "code",
      "source": [
        "calibration_data.head()"
      ],
      "execution_count": 63,
      "outputs": [
        {
          "output_type": "execute_result",
          "data": {
            "text/html": [
              "<div>\n",
              "<style scoped>\n",
              "    .dataframe tbody tr th:only-of-type {\n",
              "        vertical-align: middle;\n",
              "    }\n",
              "\n",
              "    .dataframe tbody tr th {\n",
              "        vertical-align: top;\n",
              "    }\n",
              "\n",
              "    .dataframe thead th {\n",
              "        text-align: right;\n",
              "    }\n",
              "</style>\n",
              "<table border=\"1\" class=\"dataframe\">\n",
              "  <thead>\n",
              "    <tr style=\"text-align: right;\">\n",
              "      <th></th>\n",
              "      <th>predictions</th>\n",
              "      <th>targets</th>\n",
              "    </tr>\n",
              "  </thead>\n",
              "  <tbody>\n",
              "    <tr>\n",
              "      <th>0</th>\n",
              "      <td>3.9</td>\n",
              "      <td>66.9</td>\n",
              "    </tr>\n",
              "    <tr>\n",
              "      <th>1</th>\n",
              "      <td>0.4</td>\n",
              "      <td>80.1</td>\n",
              "    </tr>\n",
              "    <tr>\n",
              "      <th>2</th>\n",
              "      <td>3.1</td>\n",
              "      <td>85.7</td>\n",
              "    </tr>\n",
              "    <tr>\n",
              "      <th>3</th>\n",
              "      <td>3.0</td>\n",
              "      <td>73.4</td>\n",
              "    </tr>\n",
              "    <tr>\n",
              "      <th>4</th>\n",
              "      <td>4.0</td>\n",
              "      <td>65.5</td>\n",
              "    </tr>\n",
              "  </tbody>\n",
              "</table>\n",
              "</div>"
            ],
            "text/plain": [
              "   predictions  targets\n",
              "0          3.9     66.9\n",
              "1          0.4     80.1\n",
              "2          3.1     85.7\n",
              "3          3.0     73.4\n",
              "4          4.0     65.5"
            ]
          },
          "metadata": {
            "tags": []
          },
          "execution_count": 63
        }
      ]
    },
    {
      "metadata": {
        "id": "E2-bf8Hq36y8",
        "colab_type": "text"
      },
      "cell_type": "markdown",
      "source": [
        " 好的，此信息也许有帮助。平均值与模型的 RMSE 相比情况如何？各种分位数呢？\n",
        "\n",
        "我们还可以将数据和学到的线可视化。我们已经知道，单个特征的线性回归可绘制成一条将输入 *x* 映射到输出 *y* 的线。\n",
        "\n",
        "首先，我们将获得均匀分布的随机数据样本，以便绘制可辨的散点图。"
      ]
    },
    {
      "metadata": {
        "id": "SGRIi3mAU81H",
        "colab_type": "code",
        "colab": {
          "base_uri": "https://localhost:8080/",
          "height": 379
        },
        "outputId": "c601e3a8-79a4-4727-b167-891c2aa0ccc2"
      },
      "cell_type": "code",
      "source": [
        "sample = california_housing_dataframe.sample(n=300)\n",
        "x_0 = sample[\"total_rooms\"].min()\n",
        "x_1 = sample[\"total_rooms\"].max()\n",
        "#print(linear_regressor.get_variable_value('linear/linear_model/total_rooms'))\n",
        "weight = linear_regressor.get_variable_value('linear/linear_model/total_rooms/weights')[0]\n",
        "bias = linear_regressor.get_variable_value('linear/linear_model/bias_weights')\n",
        "print(bias)\n",
        "\n",
        "y_0 = weight * x_0 + bias\n",
        "y_1 = weight * x_1 + bias\n",
        "\n",
        "plt.plot([x_0,x_1],[y_0,y_1],c='r')\n",
        "\n",
        "plt.ylabel(\"median_house_value\")\n",
        "plt.xlabel(\"total_rooms\")\n",
        "\n",
        "plt.scatter(sample[\"total_rooms\"],sample[\"median_house_value\"])\n",
        "\n",
        "plt.show()"
      ],
      "execution_count": 21,
      "outputs": [
        {
          "output_type": "stream",
          "text": [
            "[6.7178024e-07]\n"
          ],
          "name": "stdout"
        },
        {
          "output_type": "display_data",
          "data": {
            "image/png": "[encoded data removed]",
            "text/plain": [
              "<matplotlib.figure.Figure at 0x7f4b03649590>"
            ]
          },
          "metadata": {
            "tags": []
          }
        }
      ]
    },
    {
      "metadata": {
        "id": "N-JwuJBKU81J",
        "colab_type": "text"
      },
      "cell_type": "markdown",
      "source": [
        " 然后，我们根据模型的偏差项和特征权重绘制学到的线，并绘制散点图。该线会以红色显示。"
      ]
    },
    {
      "metadata": {
        "id": "7G12E76-339G",
        "colab_type": "code",
        "colab": {
          "base_uri": "https://localhost:8080/",
          "height": 362
        },
        "outputId": "9157597a-cd9c-4b77-8dc4-d2985d52f101"
      },
      "cell_type": "code",
      "source": [
        "# Get the min and max total_rooms values.\n",
        "x_0 = sample[\"total_rooms\"].min()\n",
        "x_1 = sample[\"total_rooms\"].max()\n",
        "\n",
        "# Retrieve the final weight and bias generated during training.\n",
        "weight = linear_regressor.get_variable_value('linear/linear_model/total_rooms/weights')[0]\n",
        "bias = linear_regressor.get_variable_value('linear/linear_model/bias_weights')\n",
        "\n",
        "# Get the predicted median_house_values for the min and max total_rooms values.\n",
        "y_0 = weight * x_0 + bias \n",
        "y_1 = weight * x_1 + bias\n",
        "\n",
        "# Plot our regression line from (x_0, y_0) to (x_1, y_1).\n",
        "plt.plot([x_0, x_1], [y_0, y_1], c='r')\n",
        "\n",
        "# Label the graph axes.\n",
        "plt.ylabel(\"median_house_value\")\n",
        "plt.xlabel(\"total_rooms\")\n",
        "\n",
        "# Plot a scatter plot from our data sample.\n",
        "plt.scatter(sample[\"total_rooms\"], sample[\"median_house_value\"])\n",
        "\n",
        "# Display graph.\n",
        "plt.show()"
      ],
      "execution_count": 41,
      "outputs": [
        {
          "output_type": "display_data",
          "data": {
            "image/png": "[encoded data removed]",
            "text/plain": [
              "<matplotlib.figure.Figure at 0x7f9665b77fd0>"
            ]
          },
          "metadata": {
            "tags": []
          }
        }
      ]
    },
    {
      "metadata": {
        "id": "-327fJZSHyXY",
        "colab_type": "code",
        "colab": {}
      },
      "cell_type": "code",
      "source": [
        ""
      ],
      "execution_count": 0,
      "outputs": []
    },
    {
      "metadata": {
        "id": "t0lRt4USU81L",
        "colab_type": "text"
      },
      "cell_type": "markdown",
      "source": [
        " 这条初始线看起来与目标相差很大。看看您能否回想起摘要统计信息，并看到其中蕴含的相同信息。\n",
        "\n",
        "综上所述，这些初始健全性检查提示我们也许可以找到更好的线。"
      ]
    },
    {
      "metadata": {
        "id": "AZWF67uv0HTG",
        "colab_type": "text"
      },
      "cell_type": "markdown",
      "source": [
        " ## 调整模型超参数\n",
        "对于本练习，为方便起见，我们已将上述所有代码放入一个函数中。您可以使用不同的参数调用该函数，以了解相应效果。\n",
        "\n",
        "我们会在 10 个等分的时间段内使用此函数，以便观察模型在每个时间段的改善情况。\n",
        "\n",
        "对于每个时间段，我们都会计算训练损失并绘制相应图表。这可以帮助您判断模型收敛的时间，或者模型是否需要更多迭代。\n",
        "\n",
        "此外，我们还会绘制模型随着时间的推移学习的特征权重和偏差项值的曲线图。您还可以通过这种方式查看模型的收敛效果。"
      ]
    },
    {
      "metadata": {
        "id": "wgSMeD5UU81N",
        "colab_type": "code",
        "colab": {
          "base_uri": "https://localhost:8080/",
          "height": 17
        },
        "outputId": "d406413e-a4d7-4ec4-a55e-02f7d3726844"
      },
      "cell_type": "code",
      "source": [
        "def train_model(learning_rate, steps, batch_size, input_feature=\"total_rooms\"):\n",
        "  \"\"\"Trains a linear regression model of one feature.\n",
        "  \n",
        "  Args:\n",
        "    learning_rate: A `float`, the learning rate.\n",
        "    steps: A non-zero `int`, the total number of training steps. A training step\n",
        "      consists of a forward and backward pass using a single batch.\n",
        "    batch_size: A non-zero `int`, the batch size.\n",
        "    input_feature: A `string` specifying a column from `california_housing_dataframe`\n",
        "      to use as input feature.\n",
        "  \"\"\"\n",
        "  \n",
        "  periods = 10\n",
        "  steps_per_period = steps / periods\n",
        "\n",
        "  my_feature = input_feature\n",
        "  my_feature_data = california_housing_dataframe[[my_feature]]\n",
        "  my_label = \"median_house_value\"\n",
        "  targets = california_housing_dataframe[my_label]\n",
        "\n",
        "  # Create feature columns\n",
        "  feature_columns = [tf.feature_column.numeric_column(my_feature)]\n",
        "  \n",
        "  # Create input functions\n",
        "  training_input_fn = lambda:my_input_fn(my_feature_data, targets, batch_size=batch_size)\n",
        "  prediction_input_fn = lambda: my_input_fn(my_feature_data, targets, num_epochs=1, shuffle=False)\n",
        "  \n",
        "  # Create a linear regressor object.\n",
        "  my_optimizer = tf.train.GradientDescentOptimizer(learning_rate=learning_rate)\n",
        "  my_optimizer = tf.contrib.estimator.clip_gradients_by_norm(my_optimizer, 5.0)\n",
        "  linear_regressor = tf.estimator.LinearRegressor(\n",
        "      feature_columns=feature_columns,\n",
        "      optimizer=my_optimizer\n",
        "  )\n",
        "\n",
        "  # Set up to plot the state of our model's line each period.\n",
        "  plt.figure(figsize=(15, 6))\n",
        "  plt.subplot(1, 2, 1)\n",
        "  plt.title(\"Learned Line by Period\")\n",
        "  plt.ylabel(my_label)\n",
        "  plt.xlabel(my_feature)\n",
        "  sample = california_housing_dataframe.sample(n=300)\n",
        "  plt.scatter(sample[my_feature], sample[my_label])\n",
        "  colors = [cm.coolwarm(x) for x in np.linspace(-1, 1, periods)]\n",
        "\n",
        "  # Train the model, but do so inside a loop so that we can periodically assess\n",
        "  # loss metrics.\n",
        "  print \"Training model...\"\n",
        "  print \"RMSE (on training data):\"\n",
        "  root_mean_squared_errors = []\n",
        "  for period in range (0, periods):\n",
        "    # Train the model, starting from the prior state.\n",
        "    linear_regressor.train(\n",
        "        input_fn=training_input_fn,\n",
        "        steps=steps_per_period\n",
        "    )\n",
        "    # Take a break and compute predictions.\n",
        "    predictions = linear_regressor.predict(input_fn=prediction_input_fn)\n",
        "    predictions = np.array([item['predictions'][0] for item in predictions])\n",
        "    \n",
        "    # Compute loss.\n",
        "    root_mean_squared_error = math.sqrt(\n",
        "        metrics.mean_squared_error(predictions, targets))\n",
        "    # Occasionally print the current loss.\n",
        "    print \"  period %02d : %0.2f\" % (period, root_mean_squared_error)\n",
        "    # Add the loss metrics from this period to our list.\n",
        "    root_mean_squared_errors.append(root_mean_squared_error)\n",
        "    # Finally, track the weights and biases over time.\n",
        "    # Apply some math to ensure that the data and line are plotted neatly.\n",
        "    y_extents = np.array([0, sample[my_label].max()])\n",
        "    \n",
        "    weight = linear_regressor.get_variable_value('linear/linear_model/%s/weights' % input_feature)[0]\n",
        "    bias = linear_regressor.get_variable_value('linear/linear_model/bias_weights')\n",
        "\n",
        "    x_extents = (y_extents - bias) / weight\n",
        "    x_extents = np.maximum(np.minimum(x_extents,\n",
        "                                      sample[my_feature].max()),\n",
        "                           sample[my_feature].min())\n",
        "    y_extents = weight * x_extents + bias\n",
        "    plt.plot(x_extents, y_extents, color=colors[period]) \n",
        "  print \"Model training finished.\"\n",
        "\n",
        "  # Output a graph of loss metrics over periods.\n",
        "  plt.subplot(1, 2, 2)\n",
        "  plt.ylabel('RMSE')\n",
        "  plt.xlabel('Periods')\n",
        "  plt.title(\"Root Mean Squared Error vs. Periods\")\n",
        "  plt.tight_layout()\n",
        "  plt.plot(root_mean_squared_errors)\n",
        "\n",
        "  # Output a table with calibration data.\n",
        "  calibration_data = pd.DataFrame()\n",
        "  calibration_data[\"predictions\"] = pd.Series(predictions)\n",
        "  calibration_data[\"targets\"] = pd.Series(targets)\n",
        "  display.display(calibration_data.describe())\n",
        "\n",
        "  print \"Final RMSE (on training data): %0.2f\" % root_mean_squared_error"
      ],
      "execution_count": 22,
      "outputs": []
    },
    {
      "metadata": {
        "id": "kg8A4ArBU81Q",
        "colab_type": "text"
      },
      "cell_type": "markdown",
      "source": [
        " ## 任务 1：使 RMSE 不超过 180\n",
        "\n",
        "调整模型超参数，以降低损失和更符合目标分布。\n",
        "约 5 分钟后，如果您无法让 RMSE 低于 180，请查看解决方案，了解可能的组合。"
      ]
    },
    {
      "metadata": {
        "id": "UzoZUSdLIolF",
        "colab_type": "code",
        "colab": {
          "base_uri": "https://localhost:8080/",
          "height": 5036
        },
        "outputId": "b29f28bb-b355-4a2b-8e4f-883e6b2c8fc5"
      },
      "cell_type": "code",
      "source": [
        "train_model(\n",
        "    learning_rate=0.0005,\n",
        "    steps=50,\n",
        "    batch_size=1\n",
        ")"
      ],
      "execution_count": 25,
      "outputs": [
        {
          "output_type": "stream",
          "text": [
            "Training model...\n",
            "RMSE (on training data):\n",
            "{'total_rooms': 8306    1923.0\n",
            "6637     742.0\n",
            "17        44.0\n",
            "6705    1680.0\n",
            "15169   2742.0\n",
            "         ...  \n",
            "13535   4907.0\n",
            "11991   2696.0\n",
            "14418   2892.0\n",
            "14628   1587.0\n",
            "122      322.0\n",
            "Name: total_rooms, Length: 17000, dtype: float64}\n",
            "{'total_rooms': 8306    1923.0\n",
            "6637     742.0\n",
            "17        44.0\n",
            "6705    1680.0\n",
            "15169   2742.0\n",
            "         ...  \n",
            "13535   4907.0\n",
            "11991   2696.0\n",
            "14418   2892.0\n",
            "14628   1587.0\n",
            "122      322.0\n",
            "Name: total_rooms, Length: 17000, dtype: float64}\n",
            "  period 00 : 209.12\n",
            "{'total_rooms': 8306    1923.0\n",
            "6637     742.0\n",
            "17        44.0\n",
            "6705    1680.0\n",
            "15169   2742.0\n",
            "         ...  \n",
            "13535   4907.0\n",
            "11991   2696.0\n",
            "14418   2892.0\n",
            "14628   1587.0\n",
            "122      322.0\n",
            "Name: total_rooms, Length: 17000, dtype: float64}\n",
            "{'total_rooms': 8306    1923.0\n",
            "6637     742.0\n",
            "17        44.0\n",
            "6705    1680.0\n",
            "15169   2742.0\n",
            "         ...  \n",
            "13535   4907.0\n",
            "11991   2696.0\n",
            "14418   2892.0\n",
            "14628   1587.0\n",
            "122      322.0\n",
            "Name: total_rooms, Length: 17000, dtype: float64}\n",
            "  period 01 : 186.29\n",
            "{'total_rooms': 8306    1923.0\n",
            "6637     742.0\n",
            "17        44.0\n",
            "6705    1680.0\n",
            "15169   2742.0\n",
            "         ...  \n",
            "13535   4907.0\n",
            "11991   2696.0\n",
            "14418   2892.0\n",
            "14628   1587.0\n",
            "122      322.0\n",
            "Name: total_rooms, Length: 17000, dtype: float64}\n",
            "{'total_rooms': 8306    1923.0\n",
            "6637     742.0\n",
            "17        44.0\n",
            "6705    1680.0\n",
            "15169   2742.0\n",
            "         ...  \n",
            "13535   4907.0\n",
            "11991   2696.0\n",
            "14418   2892.0\n",
            "14628   1587.0\n",
            "122      322.0\n",
            "Name: total_rooms, Length: 17000, dtype: float64}\n",
            "  period 02 : 171.32\n",
            "{'total_rooms': 8306    1923.0\n",
            "6637     742.0\n",
            "17        44.0\n",
            "6705    1680.0\n",
            "15169   2742.0\n",
            "         ...  \n",
            "13535   4907.0\n",
            "11991   2696.0\n",
            "14418   2892.0\n",
            "14628   1587.0\n",
            "122      322.0\n",
            "Name: total_rooms, Length: 17000, dtype: float64}\n",
            "{'total_rooms': 8306    1923.0\n",
            "6637     742.0\n",
            "17        44.0\n",
            "6705    1680.0\n",
            "15169   2742.0\n",
            "         ...  \n",
            "13535   4907.0\n",
            "11991   2696.0\n",
            "14418   2892.0\n",
            "14628   1587.0\n",
            "122      322.0\n",
            "Name: total_rooms, Length: 17000, dtype: float64}\n",
            "  period 03 : 167.02\n",
            "{'total_rooms': 8306    1923.0\n",
            "6637     742.0\n",
            "17        44.0\n",
            "6705    1680.0\n",
            "15169   2742.0\n",
            "         ...  \n",
            "13535   4907.0\n",
            "11991   2696.0\n",
            "14418   2892.0\n",
            "14628   1587.0\n",
            "122      322.0\n",
            "Name: total_rooms, Length: 17000, dtype: float64}\n",
            "{'total_rooms': 8306    1923.0\n",
            "6637     742.0\n",
            "17        44.0\n",
            "6705    1680.0\n",
            "15169   2742.0\n",
            "         ...  \n",
            "13535   4907.0\n",
            "11991   2696.0\n",
            "14418   2892.0\n",
            "14628   1587.0\n",
            "122      322.0\n",
            "Name: total_rooms, Length: 17000, dtype: float64}\n",
            "  period 04 : 168.56\n",
            "{'total_rooms': 8306    1923.0\n",
            "6637     742.0\n",
            "17        44.0\n",
            "6705    1680.0\n",
            "15169   2742.0\n",
            "         ...  \n",
            "13535   4907.0\n",
            "11991   2696.0\n",
            "14418   2892.0\n",
            "14628   1587.0\n",
            "122      322.0\n",
            "Name: total_rooms, Length: 17000, dtype: float64}\n",
            "{'total_rooms': 8306    1923.0\n",
            "6637     742.0\n",
            "17        44.0\n",
            "6705    1680.0\n",
            "15169   2742.0\n",
            "         ...  \n",
            "13535   4907.0\n",
            "11991   2696.0\n",
            "14418   2892.0\n",
            "14628   1587.0\n",
            "122      322.0\n",
            "Name: total_rooms, Length: 17000, dtype: float64}\n",
            "  period 05 : 167.38\n",
            "{'total_rooms': 8306    1923.0\n",
            "6637     742.0\n",
            "17        44.0\n",
            "6705    1680.0\n",
            "15169   2742.0\n",
            "         ...  \n",
            "13535   4907.0\n",
            "11991   2696.0\n",
            "14418   2892.0\n",
            "14628   1587.0\n",
            "122      322.0\n",
            "Name: total_rooms, Length: 17000, dtype: float64}\n",
            "{'total_rooms': 8306    1923.0\n",
            "6637     742.0\n",
            "17        44.0\n",
            "6705    1680.0\n",
            "15169   2742.0\n",
            "         ...  \n",
            "13535   4907.0\n",
            "11991   2696.0\n",
            "14418   2892.0\n",
            "14628   1587.0\n",
            "122      322.0\n",
            "Name: total_rooms, Length: 17000, dtype: float64}\n",
            "  period 06 : 166.63\n",
            "{'total_rooms': 8306    1923.0\n",
            "6637     742.0\n",
            "17        44.0\n",
            "6705    1680.0\n",
            "15169   2742.0\n",
            "         ...  \n",
            "13535   4907.0\n",
            "11991   2696.0\n",
            "14418   2892.0\n",
            "14628   1587.0\n",
            "122      322.0\n",
            "Name: total_rooms, Length: 17000, dtype: float64}\n",
            "{'total_rooms': 8306    1923.0\n",
            "6637     742.0\n",
            "17        44.0\n",
            "6705    1680.0\n",
            "15169   2742.0\n",
            "         ...  \n",
            "13535   4907.0\n",
            "11991   2696.0\n",
            "14418   2892.0\n",
            "14628   1587.0\n",
            "122      322.0\n",
            "Name: total_rooms, Length: 17000, dtype: float64}\n",
            "  period 07 : 166.32\n",
            "{'total_rooms': 8306    1923.0\n",
            "6637     742.0\n",
            "17        44.0\n",
            "6705    1680.0\n",
            "15169   2742.0\n",
            "         ...  \n",
            "13535   4907.0\n",
            "11991   2696.0\n",
            "14418   2892.0\n",
            "14628   1587.0\n",
            "122      322.0\n",
            "Name: total_rooms, Length: 17000, dtype: float64}\n",
            "{'total_rooms': 8306    1923.0\n",
            "6637     742.0\n",
            "17        44.0\n",
            "6705    1680.0\n",
            "15169   2742.0\n",
            "         ...  \n",
            "13535   4907.0\n",
            "11991   2696.0\n",
            "14418   2892.0\n",
            "14628   1587.0\n",
            "122      322.0\n",
            "Name: total_rooms, Length: 17000, dtype: float64}\n",
            "  period 08 : 168.03\n",
            "{'total_rooms': 8306    1923.0\n",
            "6637     742.0\n",
            "17        44.0\n",
            "6705    1680.0\n",
            "15169   2742.0\n",
            "         ...  \n",
            "13535   4907.0\n",
            "11991   2696.0\n",
            "14418   2892.0\n",
            "14628   1587.0\n",
            "122      322.0\n",
            "Name: total_rooms, Length: 17000, dtype: float64}\n",
            "{'total_rooms': 8306    1923.0\n",
            "6637     742.0\n",
            "17        44.0\n",
            "6705    1680.0\n",
            "15169   2742.0\n",
            "         ...  \n",
            "13535   4907.0\n",
            "11991   2696.0\n",
            "14418   2892.0\n",
            "14628   1587.0\n",
            "122      322.0\n",
            "Name: total_rooms, Length: 17000, dtype: float64}\n",
            "  period 09 : 167.38\n",
            "Model training finished.\n"
          ],
          "name": "stdout"
        },
        {
          "output_type": "display_data",
          "data": {
            "text/plain": [
              "       predictions  targets\n",
              "count      17000.0  17000.0\n",
              "mean         145.4    207.3\n",
              "std          119.9    116.0\n",
              "min            0.1     15.0\n",
              "25%           80.4    119.4\n",
              "50%          117.0    180.4\n",
              "75%          173.3    265.0\n",
              "max         2086.5    500.0"
            ],
            "text/html": [
              "<div>\n",
              "<style scoped>\n",
              "    .dataframe tbody tr th:only-of-type {\n",
              "        vertical-align: middle;\n",
              "    }\n",
              "\n",
              "    .dataframe tbody tr th {\n",
              "        vertical-align: top;\n",
              "    }\n",
              "\n",
              "    .dataframe thead th {\n",
              "        text-align: right;\n",
              "    }\n",
              "</style>\n",
              "<table border=\"1\" class=\"dataframe\">\n",
              "  <thead>\n",
              "    <tr style=\"text-align: right;\">\n",
              "      <th></th>\n",
              "      <th>predictions</th>\n",
              "      <th>targets</th>\n",
              "    </tr>\n",
              "  </thead>\n",
              "  <tbody>\n",
              "    <tr>\n",
              "      <th>count</th>\n",
              "      <td>17000.0</td>\n",
              "      <td>17000.0</td>\n",
              "    </tr>\n",
              "    <tr>\n",
              "      <th>mean</th>\n",
              "      <td>145.4</td>\n",
              "      <td>207.3</td>\n",
              "    </tr>\n",
              "    <tr>\n",
              "      <th>std</th>\n",
              "      <td>119.9</td>\n",
              "      <td>116.0</td>\n",
              "    </tr>\n",
              "    <tr>\n",
              "      <th>min</th>\n",
              "      <td>0.1</td>\n",
              "      <td>15.0</td>\n",
              "    </tr>\n",
              "    <tr>\n",
              "      <th>25%</th>\n",
              "      <td>80.4</td>\n",
              "      <td>119.4</td>\n",
              "    </tr>\n",
              "    <tr>\n",
              "      <th>50%</th>\n",
              "      <td>117.0</td>\n",
              "      <td>180.4</td>\n",
              "    </tr>\n",
              "    <tr>\n",
              "      <th>75%</th>\n",
              "      <td>173.3</td>\n",
              "      <td>265.0</td>\n",
              "    </tr>\n",
              "    <tr>\n",
              "      <th>max</th>\n",
              "      <td>2086.5</td>\n",
              "      <td>500.0</td>\n",
              "    </tr>\n",
              "  </tbody>\n",
              "</table>\n",
              "</div>"
            ]
          },
          "metadata": {
            "tags": []
          }
        },
        {
          "output_type": "stream",
          "text": [
            "Final RMSE (on training data): 167.38\n"
          ],
          "name": "stdout"
        },
        {
          "output_type": "display_data",
          "data": {
            "image/png": "[encoded data removed]",
            "text/plain": [
              "<matplotlib.figure.Figure at 0x7f4b0468f710>"
            ]
          },
          "metadata": {
            "tags": []
          }
        }
      ]
    },
    {
      "metadata": {
        "id": "ajVM7rkoYXeL",
        "colab_type": "text"
      },
      "cell_type": "markdown",
      "source": [
        " ### 解决方案\n",
        "\n",
        "点击下方即可查看一种可能的解决方案。"
      ]
    },
    {
      "metadata": {
        "id": "T3zmldDwYy5c",
        "colab_type": "code",
        "colab": {
          "base_uri": "https://localhost:8080/",
          "height": 5036
        },
        "outputId": "3aa6b8d3-c06b-4314-a77b-81e92b09c843"
      },
      "cell_type": "code",
      "source": [
        "train_model(\n",
        "    learning_rate=0.00005,\n",
        "    steps=300,\n",
        "    batch_size=5\n",
        ")"
      ],
      "execution_count": 28,
      "outputs": [
        {
          "output_type": "stream",
          "text": [
            "Training model...\n",
            "RMSE (on training data):\n",
            "{'total_rooms': 8306    1923.0\n",
            "6637     742.0\n",
            "17        44.0\n",
            "6705    1680.0\n",
            "15169   2742.0\n",
            "         ...  \n",
            "13535   4907.0\n",
            "11991   2696.0\n",
            "14418   2892.0\n",
            "14628   1587.0\n",
            "122      322.0\n",
            "Name: total_rooms, Length: 17000, dtype: float64}\n",
            "{'total_rooms': 8306    1923.0\n",
            "6637     742.0\n",
            "17        44.0\n",
            "6705    1680.0\n",
            "15169   2742.0\n",
            "         ...  \n",
            "13535   4907.0\n",
            "11991   2696.0\n",
            "14418   2892.0\n",
            "14628   1587.0\n",
            "122      322.0\n",
            "Name: total_rooms, Length: 17000, dtype: float64}\n",
            "  period 00 : 219.93\n",
            "{'total_rooms': 8306    1923.0\n",
            "6637     742.0\n",
            "17        44.0\n",
            "6705    1680.0\n",
            "15169   2742.0\n",
            "         ...  \n",
            "13535   4907.0\n",
            "11991   2696.0\n",
            "14418   2892.0\n",
            "14628   1587.0\n",
            "122      322.0\n",
            "Name: total_rooms, Length: 17000, dtype: float64}\n",
            "{'total_rooms': 8306    1923.0\n",
            "6637     742.0\n",
            "17        44.0\n",
            "6705    1680.0\n",
            "15169   2742.0\n",
            "         ...  \n",
            "13535   4907.0\n",
            "11991   2696.0\n",
            "14418   2892.0\n",
            "14628   1587.0\n",
            "122      322.0\n",
            "Name: total_rooms, Length: 17000, dtype: float64}\n",
            "  period 01 : 204.04\n",
            "{'total_rooms': 8306    1923.0\n",
            "6637     742.0\n",
            "17        44.0\n",
            "6705    1680.0\n",
            "15169   2742.0\n",
            "         ...  \n",
            "13535   4907.0\n",
            "11991   2696.0\n",
            "14418   2892.0\n",
            "14628   1587.0\n",
            "122      322.0\n",
            "Name: total_rooms, Length: 17000, dtype: float64}\n",
            "{'total_rooms': 8306    1923.0\n",
            "6637     742.0\n",
            "17        44.0\n",
            "6705    1680.0\n",
            "15169   2742.0\n",
            "         ...  \n",
            "13535   4907.0\n",
            "11991   2696.0\n",
            "14418   2892.0\n",
            "14628   1587.0\n",
            "122      322.0\n",
            "Name: total_rooms, Length: 17000, dtype: float64}\n",
            "  period 02 : 190.31\n",
            "{'total_rooms': 8306    1923.0\n",
            "6637     742.0\n",
            "17        44.0\n",
            "6705    1680.0\n",
            "15169   2742.0\n",
            "         ...  \n",
            "13535   4907.0\n",
            "11991   2696.0\n",
            "14418   2892.0\n",
            "14628   1587.0\n",
            "122      322.0\n",
            "Name: total_rooms, Length: 17000, dtype: float64}\n",
            "{'total_rooms': 8306    1923.0\n",
            "6637     742.0\n",
            "17        44.0\n",
            "6705    1680.0\n",
            "15169   2742.0\n",
            "         ...  \n",
            "13535   4907.0\n",
            "11991   2696.0\n",
            "14418   2892.0\n",
            "14628   1587.0\n",
            "122      322.0\n",
            "Name: total_rooms, Length: 17000, dtype: float64}\n",
            "  period 03 : 179.87\n",
            "{'total_rooms': 8306    1923.0\n",
            "6637     742.0\n",
            "17        44.0\n",
            "6705    1680.0\n",
            "15169   2742.0\n",
            "         ...  \n",
            "13535   4907.0\n",
            "11991   2696.0\n",
            "14418   2892.0\n",
            "14628   1587.0\n",
            "122      322.0\n",
            "Name: total_rooms, Length: 17000, dtype: float64}\n",
            "{'total_rooms': 8306    1923.0\n",
            "6637     742.0\n",
            "17        44.0\n",
            "6705    1680.0\n",
            "15169   2742.0\n",
            "         ...  \n",
            "13535   4907.0\n",
            "11991   2696.0\n",
            "14418   2892.0\n",
            "14628   1587.0\n",
            "122      322.0\n",
            "Name: total_rooms, Length: 17000, dtype: float64}\n",
            "  period 04 : 172.17\n",
            "{'total_rooms': 8306    1923.0\n",
            "6637     742.0\n",
            "17        44.0\n",
            "6705    1680.0\n",
            "15169   2742.0\n",
            "         ...  \n",
            "13535   4907.0\n",
            "11991   2696.0\n",
            "14418   2892.0\n",
            "14628   1587.0\n",
            "122      322.0\n",
            "Name: total_rooms, Length: 17000, dtype: float64}\n",
            "{'total_rooms': 8306    1923.0\n",
            "6637     742.0\n",
            "17        44.0\n",
            "6705    1680.0\n",
            "15169   2742.0\n",
            "         ...  \n",
            "13535   4907.0\n",
            "11991   2696.0\n",
            "14418   2892.0\n",
            "14628   1587.0\n",
            "122      322.0\n",
            "Name: total_rooms, Length: 17000, dtype: float64}\n",
            "  period 05 : 168.28\n",
            "{'total_rooms': 8306    1923.0\n",
            "6637     742.0\n",
            "17        44.0\n",
            "6705    1680.0\n",
            "15169   2742.0\n",
            "         ...  \n",
            "13535   4907.0\n",
            "11991   2696.0\n",
            "14418   2892.0\n",
            "14628   1587.0\n",
            "122      322.0\n",
            "Name: total_rooms, Length: 17000, dtype: float64}\n",
            "{'total_rooms': 8306    1923.0\n",
            "6637     742.0\n",
            "17        44.0\n",
            "6705    1680.0\n",
            "15169   2742.0\n",
            "         ...  \n",
            "13535   4907.0\n",
            "11991   2696.0\n",
            "14418   2892.0\n",
            "14628   1587.0\n",
            "122      322.0\n",
            "Name: total_rooms, Length: 17000, dtype: float64}\n",
            "  period 06 : 166.87\n",
            "{'total_rooms': 8306    1923.0\n",
            "6637     742.0\n",
            "17        44.0\n",
            "6705    1680.0\n",
            "15169   2742.0\n",
            "         ...  \n",
            "13535   4907.0\n",
            "11991   2696.0\n",
            "14418   2892.0\n",
            "14628   1587.0\n",
            "122      322.0\n",
            "Name: total_rooms, Length: 17000, dtype: float64}\n",
            "{'total_rooms': 8306    1923.0\n",
            "6637     742.0\n",
            "17        44.0\n",
            "6705    1680.0\n",
            "15169   2742.0\n",
            "         ...  \n",
            "13535   4907.0\n",
            "11991   2696.0\n",
            "14418   2892.0\n",
            "14628   1587.0\n",
            "122      322.0\n",
            "Name: total_rooms, Length: 17000, dtype: float64}\n",
            "  period 07 : 166.31\n",
            "{'total_rooms': 8306    1923.0\n",
            "6637     742.0\n",
            "17        44.0\n",
            "6705    1680.0\n",
            "15169   2742.0\n",
            "         ...  \n",
            "13535   4907.0\n",
            "11991   2696.0\n",
            "14418   2892.0\n",
            "14628   1587.0\n",
            "122      322.0\n",
            "Name: total_rooms, Length: 17000, dtype: float64}\n",
            "{'total_rooms': 8306    1923.0\n",
            "6637     742.0\n",
            "17        44.0\n",
            "6705    1680.0\n",
            "15169   2742.0\n",
            "         ...  \n",
            "13535   4907.0\n",
            "11991   2696.0\n",
            "14418   2892.0\n",
            "14628   1587.0\n",
            "122      322.0\n",
            "Name: total_rooms, Length: 17000, dtype: float64}\n",
            "  period 08 : 166.63\n",
            "{'total_rooms': 8306    1923.0\n",
            "6637     742.0\n",
            "17        44.0\n",
            "6705    1680.0\n",
            "15169   2742.0\n",
            "         ...  \n",
            "13535   4907.0\n",
            "11991   2696.0\n",
            "14418   2892.0\n",
            "14628   1587.0\n",
            "122      322.0\n",
            "Name: total_rooms, Length: 17000, dtype: float64}\n",
            "{'total_rooms': 8306    1923.0\n",
            "6637     742.0\n",
            "17        44.0\n",
            "6705    1680.0\n",
            "15169   2742.0\n",
            "         ...  \n",
            "13535   4907.0\n",
            "11991   2696.0\n",
            "14418   2892.0\n",
            "14628   1587.0\n",
            "122      322.0\n",
            "Name: total_rooms, Length: 17000, dtype: float64}\n",
            "  period 09 : 167.58\n",
            "Model training finished.\n"
          ],
          "name": "stdout"
        },
        {
          "output_type": "display_data",
          "data": {
            "text/plain": [
              "       predictions  targets\n",
              "count      17000.0  17000.0\n",
              "mean         146.7    207.3\n",
              "std          121.0    116.0\n",
              "min            0.1     15.0\n",
              "25%           81.1    119.4\n",
              "50%          118.0    180.4\n",
              "75%          174.9    265.0\n",
              "max         2105.5    500.0"
            ],
            "text/html": [
              "<div>\n",
              "<style scoped>\n",
              "    .dataframe tbody tr th:only-of-type {\n",
              "        vertical-align: middle;\n",
              "    }\n",
              "\n",
              "    .dataframe tbody tr th {\n",
              "        vertical-align: top;\n",
              "    }\n",
              "\n",
              "    .dataframe thead th {\n",
              "        text-align: right;\n",
              "    }\n",
              "</style>\n",
              "<table border=\"1\" class=\"dataframe\">\n",
              "  <thead>\n",
              "    <tr style=\"text-align: right;\">\n",
              "      <th></th>\n",
              "      <th>predictions</th>\n",
              "      <th>targets</th>\n",
              "    </tr>\n",
              "  </thead>\n",
              "  <tbody>\n",
              "    <tr>\n",
              "      <th>count</th>\n",
              "      <td>17000.0</td>\n",
              "      <td>17000.0</td>\n",
              "    </tr>\n",
              "    <tr>\n",
              "      <th>mean</th>\n",
              "      <td>146.7</td>\n",
              "      <td>207.3</td>\n",
              "    </tr>\n",
              "    <tr>\n",
              "      <th>std</th>\n",
              "      <td>121.0</td>\n",
              "      <td>116.0</td>\n",
              "    </tr>\n",
              "    <tr>\n",
              "      <th>min</th>\n",
              "      <td>0.1</td>\n",
              "      <td>15.0</td>\n",
              "    </tr>\n",
              "    <tr>\n",
              "      <th>25%</th>\n",
              "      <td>81.1</td>\n",
              "      <td>119.4</td>\n",
              "    </tr>\n",
              "    <tr>\n",
              "      <th>50%</th>\n",
              "      <td>118.0</td>\n",
              "      <td>180.4</td>\n",
              "    </tr>\n",
              "    <tr>\n",
              "      <th>75%</th>\n",
              "      <td>174.9</td>\n",
              "      <td>265.0</td>\n",
              "    </tr>\n",
              "    <tr>\n",
              "      <th>max</th>\n",
              "      <td>2105.5</td>\n",
              "      <td>500.0</td>\n",
              "    </tr>\n",
              "  </tbody>\n",
              "</table>\n",
              "</div>"
            ]
          },
          "metadata": {
            "tags": []
          }
        },
        {
          "output_type": "stream",
          "text": [
            "Final RMSE (on training data): 167.58\n"
          ],
          "name": "stdout"
        },
        {
          "output_type": "display_data",
          "data": {
            "image/png": "[encoded data removed]",
            "text/plain": [
              "<matplotlib.figure.Figure at 0x7f4b044e6910>"
            ]
          },
          "metadata": {
            "tags": []
          }
        }
      ]
    },
    {
      "metadata": {
        "id": "M8H0_D4vYa49",
        "colab_type": "text"
      },
      "cell_type": "markdown",
      "source": [
        " 这只是一种可能的配置；也许还有同样能够提供理想结果的其他设置组合。请注意，总体而言，本练习重点不是查找*一种最佳*设置，而是帮助您对模型配置调整如何影响预测质量有一个直观的认识。"
      ]
    },
    {
      "metadata": {
        "id": "QU5sLyYTqzqL",
        "colab_type": "text"
      },
      "cell_type": "markdown",
      "source": [
        " ### 有适用于模型调整的标准启发法吗？\n",
        "\n",
        "这是一个常见的问题。简短的答案是，不同超参数的效果取决于数据。因此，不存在必须遵循的规则，您需要对自己的数据进行测试。\n",
        "\n",
        "即便如此，我们仍在下面列出了几条可为您提供指导的经验法则：\n",
        "\n",
        " * 训练误差应该稳步减小，刚开始是急剧减小，最终应随着训练收敛达到平稳状态。\n",
        " * 如果训练尚未收敛，尝试运行更长的时间。\n",
        " * 如果训练误差减小速度过慢，则提高学习速率也许有助于加快其减小速度。\n",
        "   * 但有时如果学习速率过高，训练误差的减小速度反而会变慢。\n",
        " * 如果训练误差变化很大，尝试降低学习速率。\n",
        "   * 较低的学习速率和较大的步数/较大的批量大小通常是不错的组合。\n",
        " * 批量大小过小也会导致不稳定情况。不妨先尝试 100 或 1000 等较大的值，然后逐渐减小值的大小，直到出现性能降低的情况。\n",
        "\n",
        "重申一下，切勿严格遵循这些经验法则，因为效果取决于数据。请始终进行试验和验证。"
      ]
    },
    {
      "metadata": {
        "id": "GpV-uF_cBCBU",
        "colab_type": "text"
      },
      "cell_type": "markdown",
      "source": [
        " ## 任务 2：尝试其他特征\n",
        "\n",
        "使用 `population` 特征替换 `total_rooms` 特征，看看能否取得更好的效果。\n",
        "\n",
        "这部分不必超过 5 分钟。"
      ]
    },
    {
      "metadata": {
        "id": "YMyOxzb0ZlAH",
        "colab_type": "code",
        "colab": {
          "base_uri": "https://localhost:8080/",
          "height": 5036
        },
        "outputId": "cc65dea1-0564-4eca-8628-7e2df3a793fd"
      },
      "cell_type": "code",
      "source": [
        "# YOUR CODE HERE\n",
        "train_model(\n",
        "    learning_rate=0.000018, \n",
        "    steps=1000, \n",
        "    batch_size=5, \n",
        "    input_feature=\"population\")"
      ],
      "execution_count": 38,
      "outputs": [
        {
          "output_type": "stream",
          "text": [
            "Training model...\n",
            "RMSE (on training data):\n",
            "{'population': 8306    1142.0\n",
            "6637     729.0\n",
            "17        64.0\n",
            "6705    2099.0\n",
            "15169    986.0\n",
            "         ...  \n",
            "13535   2265.0\n",
            "11991   1059.0\n",
            "14418   1250.0\n",
            "14628    907.0\n",
            "122      112.0\n",
            "Name: population, Length: 17000, dtype: float64}\n",
            "{'population': 8306    1142.0\n",
            "6637     729.0\n",
            "17        64.0\n",
            "6705    2099.0\n",
            "15169    986.0\n",
            "         ...  \n",
            "13535   2265.0\n",
            "11991   1059.0\n",
            "14418   1250.0\n",
            "14628    907.0\n",
            "122      112.0\n",
            "Name: population, Length: 17000, dtype: float64}\n",
            "  period 00 : 226.78\n",
            "{'population': 8306    1142.0\n",
            "6637     729.0\n",
            "17        64.0\n",
            "6705    2099.0\n",
            "15169    986.0\n",
            "         ...  \n",
            "13535   2265.0\n",
            "11991   1059.0\n",
            "14418   1250.0\n",
            "14628    907.0\n",
            "122      112.0\n",
            "Name: population, Length: 17000, dtype: float64}\n",
            "{'population': 8306    1142.0\n",
            "6637     729.0\n",
            "17        64.0\n",
            "6705    2099.0\n",
            "15169    986.0\n",
            "         ...  \n",
            "13535   2265.0\n",
            "11991   1059.0\n",
            "14418   1250.0\n",
            "14628    907.0\n",
            "122      112.0\n",
            "Name: population, Length: 17000, dtype: float64}\n",
            "  period 01 : 216.94\n",
            "{'population': 8306    1142.0\n",
            "6637     729.0\n",
            "17        64.0\n",
            "6705    2099.0\n",
            "15169    986.0\n",
            "         ...  \n",
            "13535   2265.0\n",
            "11991   1059.0\n",
            "14418   1250.0\n",
            "14628    907.0\n",
            "122      112.0\n",
            "Name: population, Length: 17000, dtype: float64}\n",
            "{'population': 8306    1142.0\n",
            "6637     729.0\n",
            "17        64.0\n",
            "6705    2099.0\n",
            "15169    986.0\n",
            "         ...  \n",
            "13535   2265.0\n",
            "11991   1059.0\n",
            "14418   1250.0\n",
            "14628    907.0\n",
            "122      112.0\n",
            "Name: population, Length: 17000, dtype: float64}\n",
            "  period 02 : 207.71\n",
            "{'population': 8306    1142.0\n",
            "6637     729.0\n",
            "17        64.0\n",
            "6705    2099.0\n",
            "15169    986.0\n",
            "         ...  \n",
            "13535   2265.0\n",
            "11991   1059.0\n",
            "14418   1250.0\n",
            "14628    907.0\n",
            "122      112.0\n",
            "Name: population, Length: 17000, dtype: float64}\n",
            "{'population': 8306    1142.0\n",
            "6637     729.0\n",
            "17        64.0\n",
            "6705    2099.0\n",
            "15169    986.0\n",
            "         ...  \n",
            "13535   2265.0\n",
            "11991   1059.0\n",
            "14418   1250.0\n",
            "14628    907.0\n",
            "122      112.0\n",
            "Name: population, Length: 17000, dtype: float64}\n",
            "  period 03 : 199.90\n",
            "{'population': 8306    1142.0\n",
            "6637     729.0\n",
            "17        64.0\n",
            "6705    2099.0\n",
            "15169    986.0\n",
            "         ...  \n",
            "13535   2265.0\n",
            "11991   1059.0\n",
            "14418   1250.0\n",
            "14628    907.0\n",
            "122      112.0\n",
            "Name: population, Length: 17000, dtype: float64}\n",
            "{'population': 8306    1142.0\n",
            "6637     729.0\n",
            "17        64.0\n",
            "6705    2099.0\n",
            "15169    986.0\n",
            "         ...  \n",
            "13535   2265.0\n",
            "11991   1059.0\n",
            "14418   1250.0\n",
            "14628    907.0\n",
            "122      112.0\n",
            "Name: population, Length: 17000, dtype: float64}\n",
            "  period 04 : 192.88\n",
            "{'population': 8306    1142.0\n",
            "6637     729.0\n",
            "17        64.0\n",
            "6705    2099.0\n",
            "15169    986.0\n",
            "         ...  \n",
            "13535   2265.0\n",
            "11991   1059.0\n",
            "14418   1250.0\n",
            "14628    907.0\n",
            "122      112.0\n",
            "Name: population, Length: 17000, dtype: float64}\n",
            "{'population': 8306    1142.0\n",
            "6637     729.0\n",
            "17        64.0\n",
            "6705    2099.0\n",
            "15169    986.0\n",
            "         ...  \n",
            "13535   2265.0\n",
            "11991   1059.0\n",
            "14418   1250.0\n",
            "14628    907.0\n",
            "122      112.0\n",
            "Name: population, Length: 17000, dtype: float64}\n",
            "  period 05 : 187.39\n",
            "{'population': 8306    1142.0\n",
            "6637     729.0\n",
            "17        64.0\n",
            "6705    2099.0\n",
            "15169    986.0\n",
            "         ...  \n",
            "13535   2265.0\n",
            "11991   1059.0\n",
            "14418   1250.0\n",
            "14628    907.0\n",
            "122      112.0\n",
            "Name: population, Length: 17000, dtype: float64}\n",
            "{'population': 8306    1142.0\n",
            "6637     729.0\n",
            "17        64.0\n",
            "6705    2099.0\n",
            "15169    986.0\n",
            "         ...  \n",
            "13535   2265.0\n",
            "11991   1059.0\n",
            "14418   1250.0\n",
            "14628    907.0\n",
            "122      112.0\n",
            "Name: population, Length: 17000, dtype: float64}\n",
            "  period 06 : 183.17\n",
            "{'population': 8306    1142.0\n",
            "6637     729.0\n",
            "17        64.0\n",
            "6705    2099.0\n",
            "15169    986.0\n",
            "         ...  \n",
            "13535   2265.0\n",
            "11991   1059.0\n",
            "14418   1250.0\n",
            "14628    907.0\n",
            "122      112.0\n",
            "Name: population, Length: 17000, dtype: float64}\n",
            "{'population': 8306    1142.0\n",
            "6637     729.0\n",
            "17        64.0\n",
            "6705    2099.0\n",
            "15169    986.0\n",
            "         ...  \n",
            "13535   2265.0\n",
            "11991   1059.0\n",
            "14418   1250.0\n",
            "14628    907.0\n",
            "122      112.0\n",
            "Name: population, Length: 17000, dtype: float64}\n",
            "  period 07 : 180.22\n",
            "{'population': 8306    1142.0\n",
            "6637     729.0\n",
            "17        64.0\n",
            "6705    2099.0\n",
            "15169    986.0\n",
            "         ...  \n",
            "13535   2265.0\n",
            "11991   1059.0\n",
            "14418   1250.0\n",
            "14628    907.0\n",
            "122      112.0\n",
            "Name: population, Length: 17000, dtype: float64}\n",
            "{'population': 8306    1142.0\n",
            "6637     729.0\n",
            "17        64.0\n",
            "6705    2099.0\n",
            "15169    986.0\n",
            "         ...  \n",
            "13535   2265.0\n",
            "11991   1059.0\n",
            "14418   1250.0\n",
            "14628    907.0\n",
            "122      112.0\n",
            "Name: population, Length: 17000, dtype: float64}\n",
            "  period 08 : 178.39\n",
            "{'population': 8306    1142.0\n",
            "6637     729.0\n",
            "17        64.0\n",
            "6705    2099.0\n",
            "15169    986.0\n",
            "         ...  \n",
            "13535   2265.0\n",
            "11991   1059.0\n",
            "14418   1250.0\n",
            "14628    907.0\n",
            "122      112.0\n",
            "Name: population, Length: 17000, dtype: float64}\n",
            "{'population': 8306    1142.0\n",
            "6637     729.0\n",
            "17        64.0\n",
            "6705    2099.0\n",
            "15169    986.0\n",
            "         ...  \n",
            "13535   2265.0\n",
            "11991   1059.0\n",
            "14418   1250.0\n",
            "14628    907.0\n",
            "122      112.0\n",
            "Name: population, Length: 17000, dtype: float64}\n",
            "  period 09 : 177.09\n",
            "Model training finished.\n"
          ],
          "name": "stdout"
        },
        {
          "output_type": "display_data",
          "data": {
            "text/plain": [
              "       predictions  targets\n",
              "count      17000.0  17000.0\n",
              "mean         108.6    207.3\n",
              "std           87.2    116.0\n",
              "min            0.2     15.0\n",
              "25%           60.0    119.4\n",
              "50%           88.6    180.4\n",
              "75%          130.7    265.0\n",
              "max         2710.5    500.0"
            ],
            "text/html": [
              "<div>\n",
              "<style scoped>\n",
              "    .dataframe tbody tr th:only-of-type {\n",
              "        vertical-align: middle;\n",
              "    }\n",
              "\n",
              "    .dataframe tbody tr th {\n",
              "        vertical-align: top;\n",
              "    }\n",
              "\n",
              "    .dataframe thead th {\n",
              "        text-align: right;\n",
              "    }\n",
              "</style>\n",
              "<table border=\"1\" class=\"dataframe\">\n",
              "  <thead>\n",
              "    <tr style=\"text-align: right;\">\n",
              "      <th></th>\n",
              "      <th>predictions</th>\n",
              "      <th>targets</th>\n",
              "    </tr>\n",
              "  </thead>\n",
              "  <tbody>\n",
              "    <tr>\n",
              "      <th>count</th>\n",
              "      <td>17000.0</td>\n",
              "      <td>17000.0</td>\n",
              "    </tr>\n",
              "    <tr>\n",
              "      <th>mean</th>\n",
              "      <td>108.6</td>\n",
              "      <td>207.3</td>\n",
              "    </tr>\n",
              "    <tr>\n",
              "      <th>std</th>\n",
              "      <td>87.2</td>\n",
              "      <td>116.0</td>\n",
              "    </tr>\n",
              "    <tr>\n",
              "      <th>min</th>\n",
              "      <td>0.2</td>\n",
              "      <td>15.0</td>\n",
              "    </tr>\n",
              "    <tr>\n",
              "      <th>25%</th>\n",
              "      <td>60.0</td>\n",
              "      <td>119.4</td>\n",
              "    </tr>\n",
              "    <tr>\n",
              "      <th>50%</th>\n",
              "      <td>88.6</td>\n",
              "      <td>180.4</td>\n",
              "    </tr>\n",
              "    <tr>\n",
              "      <th>75%</th>\n",
              "      <td>130.7</td>\n",
              "      <td>265.0</td>\n",
              "    </tr>\n",
              "    <tr>\n",
              "      <th>max</th>\n",
              "      <td>2710.5</td>\n",
              "      <td>500.0</td>\n",
              "    </tr>\n",
              "  </tbody>\n",
              "</table>\n",
              "</div>"
            ]
          },
          "metadata": {
            "tags": []
          }
        },
        {
          "output_type": "stream",
          "text": [
            "Final RMSE (on training data): 177.09\n"
          ],
          "name": "stdout"
        },
        {
          "output_type": "display_data",
          "data": {
            "image/png": "[encoded data removed]",
            "text/plain": [
              "<matplotlib.figure.Figure at 0x7f4b044cc890>"
            ]
          },
          "metadata": {
            "tags": []
          }
        }
      ]
    },
    {
      "metadata": {
        "id": "ci1ISxxrZ7v0",
        "colab_type": "text"
      },
      "cell_type": "markdown",
      "source": [
        " ### 解决方案\n",
        "\n",
        "点击下方即可查看一种可能的解决方案。"
      ]
    },
    {
      "metadata": {
        "id": "SjdQQCduZ7BV",
        "colab_type": "code",
        "colab": {}
      },
      "cell_type": "code",
      "source": [
        "train_model(\n",
        "    learning_rate=0.00002,\n",
        "    steps=1000,\n",
        "    batch_size=5,\n",
        "    input_feature=\"population\"\n",
        ")"
      ],
      "execution_count": 0,
      "outputs": []
    }
  ]
}